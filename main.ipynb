{
 "cells": [
  {
   "cell_type": "markdown",
   "metadata": {},
   "source": [
    "## 0. Import"
   ]
  },
  {
   "cell_type": "code",
   "execution_count": 1,
   "metadata": {},
   "outputs": [],
   "source": [
    "import pandas as pd\n",
    "import numpy as np\n",
    "import matplotlib.pyplot as plt\n",
    "import seaborn as sns; sns.set()\n",
    "\n",
    "from os.path import join\n",
    "import os\n",
    "import datetime\n",
    "from datetime import date\n",
    "import pickle\n",
    "import math\n",
    "import time\n",
    "import pickle\n",
    "\n",
    "DATA_PATH = 'data/'\n",
    "TRAIN_PATH= os.path.join(DATA_PATH, 'train.csv')\n",
    "TEST_PATH = os.path.join(DATA_PATH, 'test_x.csv')\n",
    "TWEETS_PATH = os.path.join(DATA_PATH, 'tweets_from2015_#Ibex35.csv')"
   ]
  },
  {
   "cell_type": "code",
   "execution_count": 7,
   "metadata": {},
   "outputs": [],
   "source": [
    "# TO SAVE INTERMEDIATE DATASETS OR MODELS\n",
    "\n",
    "def save_pickle(dir, filename, data):\n",
    "  pickle_out = open( join(dir, f'{filename}.pckl'), 'wb')\n",
    "  pickle.dump(data, pickle_out)\n",
    "  pickle_out.close()\n",
    "\n",
    "def load_pickle(dir, filename):\n",
    "  pickle_in = open( join(dir, f'{filename}.pckl'), 'rb' )\n",
    "  data = pickle.load(pickle_in)\n",
    "  pickle_in.close()\n",
    "  return data"
   ]
  },
  {
   "cell_type": "markdown",
   "metadata": {},
   "source": [
    "## 1. Analisis"
   ]
  },
  {
   "cell_type": "code",
   "execution_count": 3,
   "metadata": {},
   "outputs": [
    {
     "name": "stdout",
     "output_type": "stream",
     "text": [
      "(6554, 8) raw shape test\n",
      "(726, 8) raw shape test\n",
      "(6554, 8) without duplicates\n",
      "from: 1994-01-03 00:00:00  to: 2019-05-30 00:00:00\n"
     ]
    }
   ],
   "source": [
    "df = pd.read_csv(TRAIN_PATH)\n",
    "df_test = pd.read_csv(TEST_PATH)\n",
    "print(df.shape, \"raw shape test\")\n",
    "print(df_test.shape, \"raw shape test\")\n",
    "\n",
    "# Change columns name\n",
    "new_col_names = {x : x.lower() for x in df.columns}\n",
    "df.rename(columns=new_col_names, inplace=True)\n",
    "\n",
    "# Set date as index to sort per date\n",
    "df.index = pd.to_datetime(df.date)\n",
    "df.sort_index(inplace=True)\n",
    "\n",
    "# Remove duplicate rows\n",
    "df = df[~df.index.duplicated(keep='first')]\n",
    "print(df.shape, \"without duplicates\")\n",
    "print(\"from:\", df.index.min(), \" to:\", df.index.max())\n",
    "\n",
    "# Volume == 0 considered an error\n",
    "condicion = df['volume'] == 0\n",
    "df.loc[condicion, 'volume'] = np.nan"
   ]
  },
  {
   "cell_type": "code",
   "execution_count": 4,
   "metadata": {},
   "outputs": [
    {
     "data": {
      "text/html": [
       "<div>\n",
       "<style scoped>\n",
       "    .dataframe tbody tr th:only-of-type {\n",
       "        vertical-align: middle;\n",
       "    }\n",
       "\n",
       "    .dataframe tbody tr th {\n",
       "        vertical-align: top;\n",
       "    }\n",
       "\n",
       "    .dataframe thead th {\n",
       "        text-align: right;\n",
       "    }\n",
       "</style>\n",
       "<table border=\"1\" class=\"dataframe\">\n",
       "  <thead>\n",
       "    <tr style=\"text-align: right;\">\n",
       "      <th></th>\n",
       "      <th>open</th>\n",
       "      <th>high</th>\n",
       "      <th>low</th>\n",
       "      <th>close</th>\n",
       "      <th>adj close</th>\n",
       "      <th>volume</th>\n",
       "      <th>target</th>\n",
       "    </tr>\n",
       "  </thead>\n",
       "  <tbody>\n",
       "    <tr>\n",
       "      <th>count</th>\n",
       "      <td>6421.000000</td>\n",
       "      <td>6421.000000</td>\n",
       "      <td>6421.000000</td>\n",
       "      <td>6421.000000</td>\n",
       "      <td>6421.000000</td>\n",
       "      <td>4.772000e+03</td>\n",
       "      <td>6554.000000</td>\n",
       "    </tr>\n",
       "    <tr>\n",
       "      <th>mean</th>\n",
       "      <td>8936.540448</td>\n",
       "      <td>9005.235576</td>\n",
       "      <td>8858.340567</td>\n",
       "      <td>8934.978558</td>\n",
       "      <td>8934.970624</td>\n",
       "      <td>1.105789e+08</td>\n",
       "      <td>0.516936</td>\n",
       "    </tr>\n",
       "    <tr>\n",
       "      <th>std</th>\n",
       "      <td>2732.102441</td>\n",
       "      <td>2749.009324</td>\n",
       "      <td>2712.511028</td>\n",
       "      <td>2731.032625</td>\n",
       "      <td>2731.030170</td>\n",
       "      <td>1.314467e+08</td>\n",
       "      <td>0.499751</td>\n",
       "    </tr>\n",
       "    <tr>\n",
       "      <th>min</th>\n",
       "      <td>2865.100098</td>\n",
       "      <td>2877.300049</td>\n",
       "      <td>2833.600098</td>\n",
       "      <td>2865.100098</td>\n",
       "      <td>2865.097168</td>\n",
       "      <td>3.780000e+04</td>\n",
       "      <td>0.000000</td>\n",
       "    </tr>\n",
       "    <tr>\n",
       "      <th>25%</th>\n",
       "      <td>7732.399902</td>\n",
       "      <td>7817.200195</td>\n",
       "      <td>7641.500000</td>\n",
       "      <td>7727.799805</td>\n",
       "      <td>7727.791992</td>\n",
       "      <td>1.608000e+05</td>\n",
       "      <td>0.000000</td>\n",
       "    </tr>\n",
       "    <tr>\n",
       "      <th>50%</th>\n",
       "      <td>9329.700195</td>\n",
       "      <td>9404.599609</td>\n",
       "      <td>9243.000000</td>\n",
       "      <td>9331.000000</td>\n",
       "      <td>9331.000000</td>\n",
       "      <td>7.775250e+06</td>\n",
       "      <td>1.000000</td>\n",
       "    </tr>\n",
       "    <tr>\n",
       "      <th>75%</th>\n",
       "      <td>10525.500000</td>\n",
       "      <td>10590.299805</td>\n",
       "      <td>10441.200195</td>\n",
       "      <td>10523.400391</td>\n",
       "      <td>10523.400391</td>\n",
       "      <td>2.142067e+08</td>\n",
       "      <td>1.000000</td>\n",
       "    </tr>\n",
       "    <tr>\n",
       "      <th>max</th>\n",
       "      <td>15999.200195</td>\n",
       "      <td>16040.400391</td>\n",
       "      <td>15868.599609</td>\n",
       "      <td>15945.700195</td>\n",
       "      <td>15945.683594</td>\n",
       "      <td>7.894902e+08</td>\n",
       "      <td>1.000000</td>\n",
       "    </tr>\n",
       "  </tbody>\n",
       "</table>\n",
       "</div>"
      ],
      "text/plain": [
       "               open          high           low         close     adj close  \\\n",
       "count   6421.000000   6421.000000   6421.000000   6421.000000   6421.000000   \n",
       "mean    8936.540448   9005.235576   8858.340567   8934.978558   8934.970624   \n",
       "std     2732.102441   2749.009324   2712.511028   2731.032625   2731.030170   \n",
       "min     2865.100098   2877.300049   2833.600098   2865.100098   2865.097168   \n",
       "25%     7732.399902   7817.200195   7641.500000   7727.799805   7727.791992   \n",
       "50%     9329.700195   9404.599609   9243.000000   9331.000000   9331.000000   \n",
       "75%    10525.500000  10590.299805  10441.200195  10523.400391  10523.400391   \n",
       "max    15999.200195  16040.400391  15868.599609  15945.700195  15945.683594   \n",
       "\n",
       "             volume       target  \n",
       "count  4.772000e+03  6554.000000  \n",
       "mean   1.105789e+08     0.516936  \n",
       "std    1.314467e+08     0.499751  \n",
       "min    3.780000e+04     0.000000  \n",
       "25%    1.608000e+05     0.000000  \n",
       "50%    7.775250e+06     1.000000  \n",
       "75%    2.142067e+08     1.000000  \n",
       "max    7.894902e+08     1.000000  "
      ]
     },
     "execution_count": 4,
     "metadata": {},
     "output_type": "execute_result"
    }
   ],
   "source": [
    "df.describe()"
   ]
  },
  {
   "cell_type": "code",
   "execution_count": 8,
   "metadata": {},
   "outputs": [
    {
     "data": {
      "text/html": [
       "<div>\n",
       "<style scoped>\n",
       "    .dataframe tbody tr th:only-of-type {\n",
       "        vertical-align: middle;\n",
       "    }\n",
       "\n",
       "    .dataframe tbody tr th {\n",
       "        vertical-align: top;\n",
       "    }\n",
       "\n",
       "    .dataframe thead th {\n",
       "        text-align: right;\n",
       "    }\n",
       "</style>\n",
       "<table border=\"1\" class=\"dataframe\">\n",
       "  <thead>\n",
       "    <tr style=\"text-align: right;\">\n",
       "      <th></th>\n",
       "      <th>test_index</th>\n",
       "      <th>Open</th>\n",
       "      <th>High</th>\n",
       "      <th>Low</th>\n",
       "      <th>Close</th>\n",
       "      <th>Adj Close</th>\n",
       "      <th>Volume</th>\n",
       "    </tr>\n",
       "  </thead>\n",
       "  <tbody>\n",
       "    <tr>\n",
       "      <th>count</th>\n",
       "      <td>726.000000</td>\n",
       "      <td>726.000000</td>\n",
       "      <td>726.000000</td>\n",
       "      <td>726.000000</td>\n",
       "      <td>726.000000</td>\n",
       "      <td>726.000000</td>\n",
       "      <td>7.260000e+02</td>\n",
       "    </tr>\n",
       "    <tr>\n",
       "      <th>mean</th>\n",
       "      <td>6919.500000</td>\n",
       "      <td>8399.936418</td>\n",
       "      <td>8458.035202</td>\n",
       "      <td>8332.158471</td>\n",
       "      <td>8396.085609</td>\n",
       "      <td>8396.085609</td>\n",
       "      <td>2.086387e+08</td>\n",
       "    </tr>\n",
       "    <tr>\n",
       "      <th>std</th>\n",
       "      <td>209.722436</td>\n",
       "      <td>899.325142</td>\n",
       "      <td>886.671165</td>\n",
       "      <td>916.904022</td>\n",
       "      <td>903.320144</td>\n",
       "      <td>903.320144</td>\n",
       "      <td>1.015796e+08</td>\n",
       "    </tr>\n",
       "    <tr>\n",
       "      <th>min</th>\n",
       "      <td>6557.000000</td>\n",
       "      <td>6223.700195</td>\n",
       "      <td>6362.500000</td>\n",
       "      <td>5814.500000</td>\n",
       "      <td>6107.200195</td>\n",
       "      <td>6107.200195</td>\n",
       "      <td>3.543620e+07</td>\n",
       "    </tr>\n",
       "    <tr>\n",
       "      <th>25%</th>\n",
       "      <td>6738.250000</td>\n",
       "      <td>7848.675049</td>\n",
       "      <td>7963.874878</td>\n",
       "      <td>7762.924805</td>\n",
       "      <td>7857.675171</td>\n",
       "      <td>7857.675171</td>\n",
       "      <td>1.472686e+08</td>\n",
       "    </tr>\n",
       "    <tr>\n",
       "      <th>50%</th>\n",
       "      <td>6919.500000</td>\n",
       "      <td>8673.950195</td>\n",
       "      <td>8725.250000</td>\n",
       "      <td>8609.750000</td>\n",
       "      <td>8672.399902</td>\n",
       "      <td>8672.399902</td>\n",
       "      <td>1.827458e+08</td>\n",
       "    </tr>\n",
       "    <tr>\n",
       "      <th>75%</th>\n",
       "      <td>7100.750000</td>\n",
       "      <td>9077.599609</td>\n",
       "      <td>9124.224854</td>\n",
       "      <td>9001.125244</td>\n",
       "      <td>9077.375244</td>\n",
       "      <td>9077.375244</td>\n",
       "      <td>2.340954e+08</td>\n",
       "    </tr>\n",
       "    <tr>\n",
       "      <th>max</th>\n",
       "      <td>7282.000000</td>\n",
       "      <td>10048.700195</td>\n",
       "      <td>10100.200195</td>\n",
       "      <td>10020.700195</td>\n",
       "      <td>10083.599609</td>\n",
       "      <td>10083.599609</td>\n",
       "      <td>9.752120e+08</td>\n",
       "    </tr>\n",
       "  </tbody>\n",
       "</table>\n",
       "</div>"
      ],
      "text/plain": [
       "        test_index          Open          High           Low         Close  \\\n",
       "count   726.000000    726.000000    726.000000    726.000000    726.000000   \n",
       "mean   6919.500000   8399.936418   8458.035202   8332.158471   8396.085609   \n",
       "std     209.722436    899.325142    886.671165    916.904022    903.320144   \n",
       "min    6557.000000   6223.700195   6362.500000   5814.500000   6107.200195   \n",
       "25%    6738.250000   7848.675049   7963.874878   7762.924805   7857.675171   \n",
       "50%    6919.500000   8673.950195   8725.250000   8609.750000   8672.399902   \n",
       "75%    7100.750000   9077.599609   9124.224854   9001.125244   9077.375244   \n",
       "max    7282.000000  10048.700195  10100.200195  10020.700195  10083.599609   \n",
       "\n",
       "          Adj Close        Volume  \n",
       "count    726.000000  7.260000e+02  \n",
       "mean    8396.085609  2.086387e+08  \n",
       "std      903.320144  1.015796e+08  \n",
       "min     6107.200195  3.543620e+07  \n",
       "25%     7857.675171  1.472686e+08  \n",
       "50%     8672.399902  1.827458e+08  \n",
       "75%     9077.375244  2.340954e+08  \n",
       "max    10083.599609  9.752120e+08  "
      ]
     },
     "execution_count": 8,
     "metadata": {},
     "output_type": "execute_result"
    }
   ],
   "source": [
    "df_test.describe()"
   ]
  },
  {
   "cell_type": "markdown",
   "metadata": {},
   "source": [
    "### 1.1 Plots"
   ]
  },
  {
   "cell_type": "code",
   "execution_count": 5,
   "metadata": {},
   "outputs": [
    {
     "data": {
      "image/png": "[encoded data removed]",
      "text/plain": [
       "<Figure size 1440x720 with 6 Axes>"
      ]
     },
     "metadata": {},
     "output_type": "display_data"
    }
   ],
   "source": [
    "_ = df[df.columns.drop('target')].plot(subplots=True, figsize=(20,10), sharex=True)\n",
    "plt.tight_layout()"
   ]
  },
  {
   "cell_type": "code",
   "execution_count": 8,
   "metadata": {},
   "outputs": [
    {
     "data": {
      "application/vnd.plotly.v1+json": {
       "config": {
        "plotlyServerURL": "https://plot.ly"
       },
       "data": [
        {
         "close": [
          8847.299805,
          8823.599609,
          8856.799805,
          8877.099609,
          8818.599609,
          8850.099609,
          8912.700195,
          8908.599609,
          9069.099609,
          9053.799805,
          9037.5,
          9128.799805,
          9150,
          9185.200195,
          9062.400391,
          9119.099609,
          9071.5,
          9056.700195,
          9019.400391,
          8975.200195,
          9092,
          9100.900391,
          8938.299805,
          8856.799805,
          8936.400391,
          8983.099609,
          8982.400391,
          8952.5,
          9123.200195,
          9155.5,
          9136.400391,
          9181.099609,
          9191.200195,
          9204.599609,
          9204.299805,
          9227.200195,
          9211.700195,
          9277.700195,
          9267.700195,
          9259.799805,
          9258.200195,
          9296.700195,
          9249.900391,
          9129.299805,
          9171.900391,
          9161.700195,
          9192.700195,
          9209.799805,
          9342.200195,
          9409.099609,
          9492.299805,
          9405.599609,
          9355.599609,
          9199.400391,
          9179.900391,
          9183.099609,
          9229.900391,
          9174.700195,
          9240.299805,
          9341.700195,
          9363.5,
          9487.799805,
          9534.099609,
          9510.299805,
          9437.700195,
          9407.799805,
          9406.5,
          9445.400391,
          9468.5,
          9497.099609,
          9497.299805,
          9549.799805,
          9581.900391,
          9527.200195,
          9456.400391,
          9501.200195,
          9506,
          9517.200195,
          9570.599609,
          9418.200195,
          9409.599609,
          9331,
          9235.099609,
          9227,
          9095.200195,
          9117.5,
          9046.799805,
          9127.599609,
          9177.099609,
          9304.299805,
          9280.099609,
          9199.700195,
          9239.099609,
          9232.200195,
          9114,
          9174.599609,
          9216.400391,
          9191.799805,
          9080.5,
          9157.799805
         ],
         "high": [
          8895.900391,
          8892.900391,
          8856.799805,
          8900.400391,
          8840.400391,
          8915.900391,
          8912.700195,
          8939.099609,
          9080.799805,
          9070.599609,
          9055.599609,
          9169.700195,
          9205.400391,
          9225.400391,
          9181.5,
          9163.799805,
          9142.099609,
          9117.099609,
          9078.700195,
          9036,
          9092,
          9113.700195,
          9098.400391,
          8928.400391,
          8974.799805,
          9032.299805,
          9015.599609,
          9038,
          9134.799805,
          9174.700195,
          9187.599609,
          9189.700195,
          9224.700195,
          9238.900391,
          9261.400391,
          9235.799805,
          9226.200195,
          9293.099609,
          9361.400391,
          9322,
          9298.700195,
          9344.599609,
          9366.700195,
          9205.5,
          9181.700195,
          9213.799805,
          9202.700195,
          9283.900391,
          9342.200195,
          9418.799805,
          9532.900391,
          9509.200195,
          9397.599609,
          9395.200195,
          9232.799805,
          9211.700195,
          9323.5,
          9245.599609,
          9273.799805,
          9355.200195,
          9400.700195,
          9491.200195,
          9551.5,
          9553.599609,
          9495.099609,
          9511.200195,
          9467.5,
          9468.700195,
          9509.200195,
          9528.400391,
          9543.700195,
          9580.599609,
          9581.900391,
          9588.200195,
          9525.200195,
          9503.799805,
          9527.400391,
          9517.200195,
          9570.599609,
          9559.700195,
          9450.700195,
          9347.200195,
          9404.599609,
          9261.200195,
          9184.799805,
          9179.400391,
          9127.599609,
          9127.599609,
          9177.099609,
          9304.299805,
          9321.599609,
          9334.900391,
          9255,
          9288.700195,
          9186.700195,
          9211.099609,
          9294.599609,
          9224.900391,
          9116.700195,
          9175.200195
         ],
         "low": [
          8773.400391,
          8807,
          8784.5,
          8836,
          8751.200195,
          8768.200195,
          8836.700195,
          8850.599609,
          8950.900391,
          9033.200195,
          9001.099609,
          9006.400391,
          9088,
          9164.599609,
          9048.900391,
          9034.099609,
          9034.099609,
          8981.700195,
          8942.400391,
          8905.799805,
          8949.200195,
          9055.799805,
          8938.299805,
          8826.5,
          8893.099609,
          8961.400391,
          8956.900391,
          8943.900391,
          8918.5,
          9123.599609,
          9096.099609,
          9148.700195,
          9162.900391,
          9175.299805,
          9198.799805,
          9141.799805,
          9160.900391,
          9141,
          9267.700195,
          9248,
          9204.299805,
          9235.400391,
          9216.099609,
          9110.5,
          9106.799805,
          9137.200195,
          9123,
          9192.099609,
          9216.099609,
          9343.900391,
          9417.900391,
          9405.599609,
          9326.200195,
          9188.299805,
          9127.299805,
          9151.5,
          9146.099609,
          9170.400391,
          9190.5,
          9269.700195,
          9322.900391,
          9436.5,
          9472,
          9476.5,
          9425.200195,
          9388.299805,
          9395.200195,
          9372.299805,
          9390.200195,
          9468.099609,
          9462.900391,
          9460.5,
          9480,
          9492.200195,
          9427.400391,
          9421.299805,
          9448.799805,
          9414.400391,
          9455.5,
          9412.200195,
          9388.700195,
          9236.299805,
          9221,
          9158.299805,
          9079.799805,
          9099.099609,
          9025.700195,
          9053.599609,
          9061.900391,
          9136.700195,
          9223.099609,
          9177.900391,
          9185.200195,
          9182.5,
          9098.400391,
          9141.400391,
          9204.700195,
          9132.900391,
          9035.099609,
          9114.099609
         ],
         "name": "price",
         "open": [
          8783.099609,
          8887.400391,
          8790,
          8855.900391,
          8819.200195,
          8878.400391,
          8869.5,
          8868.099609,
          8962.299805,
          9064.799805,
          9009,
          9011.900391,
          9150,
          9206.900391,
          9149.5,
          9064.599609,
          9123.900391,
          9103.799805,
          9058.599609,
          9015.299805,
          8982,
          9070.400391,
          9062.400391,
          8915.400391,
          8905.099609,
          8989.5,
          8993.299805,
          9035.700195,
          8953.400391,
          9134.599609,
          9152.099609,
          9156.799805,
          9202.5,
          9184.700195,
          9244.200195,
          9172,
          9206.200195,
          9166.299805,
          9313.5,
          9309.299805,
          9255.700195,
          9243.099609,
          9301,
          9173.200195,
          9157.700195,
          9206.900391,
          9134.700195,
          9193.700195,
          9219.5,
          9350.799805,
          9428.400391,
          9467.700195,
          9387.400391,
          9394.599609,
          9159.400391,
          9189.700195,
          9194.799805,
          9214.099609,
          9226.5,
          9304.799805,
          9356.700195,
          9457.099609,
          9488.900391,
          9542.400391,
          9483.400391,
          9428.299805,
          9423.5,
          9423.099609,
          9441.299805,
          9488.099609,
          9492.400391,
          9486,
          9553.700195,
          9586,
          9506.299805,
          9450.799805,
          9512.099609,
          9435.299805,
          9497.299805,
          9545.5,
          9427.900391,
          9259,
          9332.900391,
          9233.900391,
          9162.099609,
          9149.400391,
          9127.599609,
          9078.200195,
          9143,
          9161.400391,
          9278.700195,
          9286,
          9229,
          9232.299805,
          9170.700195,
          9150.299805,
          9225.900391,
          9220.400391,
          9113.200195,
          9120.799805
         ],
         "type": "candlestick",
         "x": [
          "2019-01-08T00:00:00",
          "2019-01-09T00:00:00",
          "2019-01-10T00:00:00",
          "2019-01-11T00:00:00",
          "2019-01-14T00:00:00",
          "2019-01-15T00:00:00",
          "2019-01-16T00:00:00",
          "2019-01-17T00:00:00",
          "2019-01-18T00:00:00",
          "2019-01-21T00:00:00",
          "2019-01-22T00:00:00",
          "2019-01-23T00:00:00",
          "2019-01-24T00:00:00",
          "2019-01-25T00:00:00",
          "2019-01-28T00:00:00",
          "2019-01-29T00:00:00",
          "2019-01-30T00:00:00",
          "2019-01-31T00:00:00",
          "2019-02-01T00:00:00",
          "2019-02-04T00:00:00",
          "2019-02-05T00:00:00",
          "2019-02-06T00:00:00",
          "2019-02-07T00:00:00",
          "2019-02-08T00:00:00",
          "2019-02-11T00:00:00",
          "2019-02-12T00:00:00",
          "2019-02-13T00:00:00",
          "2019-02-14T00:00:00",
          "2019-02-15T00:00:00",
          "2019-02-18T00:00:00",
          "2019-02-19T00:00:00",
          "2019-02-20T00:00:00",
          "2019-02-21T00:00:00",
          "2019-02-22T00:00:00",
          "2019-02-25T00:00:00",
          "2019-02-26T00:00:00",
          "2019-02-27T00:00:00",
          "2019-02-28T00:00:00",
          "2019-03-01T00:00:00",
          "2019-03-04T00:00:00",
          "2019-03-05T00:00:00",
          "2019-03-06T00:00:00",
          "2019-03-07T00:00:00",
          "2019-03-08T00:00:00",
          "2019-03-11T00:00:00",
          "2019-03-12T00:00:00",
          "2019-03-13T00:00:00",
          "2019-03-14T00:00:00",
          "2019-03-15T00:00:00",
          "2019-03-18T00:00:00",
          "2019-03-19T00:00:00",
          "2019-03-20T00:00:00",
          "2019-03-21T00:00:00",
          "2019-03-22T00:00:00",
          "2019-03-25T00:00:00",
          "2019-03-26T00:00:00",
          "2019-03-27T00:00:00",
          "2019-03-28T00:00:00",
          "2019-03-29T00:00:00",
          "2019-04-01T00:00:00",
          "2019-04-02T00:00:00",
          "2019-04-03T00:00:00",
          "2019-04-04T00:00:00",
          "2019-04-05T00:00:00",
          "2019-04-08T00:00:00",
          "2019-04-09T00:00:00",
          "2019-04-10T00:00:00",
          "2019-04-11T00:00:00",
          "2019-04-12T00:00:00",
          "2019-04-15T00:00:00",
          "2019-04-16T00:00:00",
          "2019-04-17T00:00:00",
          "2019-04-18T00:00:00",
          "2019-04-23T00:00:00",
          "2019-04-24T00:00:00",
          "2019-04-25T00:00:00",
          "2019-04-26T00:00:00",
          "2019-04-29T00:00:00",
          "2019-04-30T00:00:00",
          "2019-05-02T00:00:00",
          "2019-05-03T00:00:00",
          "2019-05-06T00:00:00",
          "2019-05-07T00:00:00",
          "2019-05-08T00:00:00",
          "2019-05-09T00:00:00",
          "2019-05-10T00:00:00",
          "2019-05-13T00:00:00",
          "2019-05-14T00:00:00",
          "2019-05-15T00:00:00",
          "2019-05-16T00:00:00",
          "2019-05-17T00:00:00",
          "2019-05-20T00:00:00",
          "2019-05-21T00:00:00",
          "2019-05-22T00:00:00",
          "2019-05-23T00:00:00",
          "2019-05-24T00:00:00",
          "2019-05-27T00:00:00",
          "2019-05-28T00:00:00",
          "2019-05-29T00:00:00",
          "2019-05-30T00:00:00"
         ],
         "xaxis": "x",
         "yaxis": "y"
        }
       ],
       "layout": {
        "template": {
         "data": {
          "bar": [
           {
            "error_x": {
             "color": "#2a3f5f"
            },
            "error_y": {
             "color": "#2a3f5f"
            },
            "marker": {
             "line": {
              "color": "#E5ECF6",
              "width": 0.5
             },
             "pattern": {
              "fillmode": "overlay",
              "size": 10,
              "solidity": 0.2
             }
            },
            "type": "bar"
           }
          ],
          "barpolar": [
           {
            "marker": {
             "line": {
              "color": "#E5ECF6",
              "width": 0.5
             },
             "pattern": {
              "fillmode": "overlay",
              "size": 10,
              "solidity": 0.2
             }
            },
            "type": "barpolar"
           }
          ],
          "carpet": [
           {
            "aaxis": {
             "endlinecolor": "#2a3f5f",
             "gridcolor": "white",
             "linecolor": "white",
             "minorgridcolor": "white",
             "startlinecolor": "#2a3f5f"
            },
            "baxis": {
             "endlinecolor": "#2a3f5f",
             "gridcolor": "white",
             "linecolor": "white",
             "minorgridcolor": "white",
             "startlinecolor": "#2a3f5f"
            },
            "type": "carpet"
           }
          ],
          "choropleth": [
           {
            "colorbar": {
             "outlinewidth": 0,
             "ticks": ""
            },
            "type": "choropleth"
           }
          ],
          "contour": [
           {
            "colorbar": {
             "outlinewidth": 0,
             "ticks": ""
            },
            "colorscale": [
             [
              0,
              "#0d0887"
             ],
             [
              0.1111111111111111,
              "#46039f"
             ],
             [
              0.2222222222222222,
              "#7201a8"
             ],
             [
              0.3333333333333333,
              "#9c179e"
             ],
             [
              0.4444444444444444,
              "#bd3786"
             ],
             [
              0.5555555555555556,
              "#d8576b"
             ],
             [
              0.6666666666666666,
              "#ed7953"
             ],
             [
              0.7777777777777778,
              "#fb9f3a"
             ],
             [
              0.8888888888888888,
              "#fdca26"
             ],
             [
              1,
              "#f0f921"
             ]
            ],
            "type": "contour"
           }
          ],
          "contourcarpet": [
           {
            "colorbar": {
             "outlinewidth": 0,
             "ticks": ""
            },
            "type": "contourcarpet"
           }
          ],
          "heatmap": [
           {
            "colorbar": {
             "outlinewidth": 0,
             "ticks": ""
            },
            "colorscale": [
             [
              0,
              "#0d0887"
             ],
             [
              0.1111111111111111,
              "#46039f"
             ],
             [
              0.2222222222222222,
              "#7201a8"
             ],
             [
              0.3333333333333333,
              "#9c179e"
             ],
             [
              0.4444444444444444,
              "#bd3786"
             ],
             [
              0.5555555555555556,
              "#d8576b"
             ],
             [
              0.6666666666666666,
              "#ed7953"
             ],
             [
              0.7777777777777778,
              "#fb9f3a"
             ],
             [
              0.8888888888888888,
              "#fdca26"
             ],
             [
              1,
              "#f0f921"
             ]
            ],
            "type": "heatmap"
           }
          ],
          "heatmapgl": [
           {
            "colorbar": {
             "outlinewidth": 0,
             "ticks": ""
            },
            "colorscale": [
             [
              0,
              "#0d0887"
             ],
             [
              0.1111111111111111,
              "#46039f"
             ],
             [
              0.2222222222222222,
              "#7201a8"
             ],
             [
              0.3333333333333333,
              "#9c179e"
             ],
             [
              0.4444444444444444,
              "#bd3786"
             ],
             [
              0.5555555555555556,
              "#d8576b"
             ],
             [
              0.6666666666666666,
              "#ed7953"
             ],
             [
              0.7777777777777778,
              "#fb9f3a"
             ],
             [
              0.8888888888888888,
              "#fdca26"
             ],
             [
              1,
              "#f0f921"
             ]
            ],
            "type": "heatmapgl"
           }
          ],
          "histogram": [
           {
            "marker": {
             "pattern": {
              "fillmode": "overlay",
              "size": 10,
              "solidity": 0.2
             }
            },
            "type": "histogram"
           }
          ],
          "histogram2d": [
           {
            "colorbar": {
             "outlinewidth": 0,
             "ticks": ""
            },
            "colorscale": [
             [
              0,
              "#0d0887"
             ],
             [
              0.1111111111111111,
              "#46039f"
             ],
             [
              0.2222222222222222,
              "#7201a8"
             ],
             [
              0.3333333333333333,
              "#9c179e"
             ],
             [
              0.4444444444444444,
              "#bd3786"
             ],
             [
              0.5555555555555556,
              "#d8576b"
             ],
             [
              0.6666666666666666,
              "#ed7953"
             ],
             [
              0.7777777777777778,
              "#fb9f3a"
             ],
             [
              0.8888888888888888,
              "#fdca26"
             ],
             [
              1,
              "#f0f921"
             ]
            ],
            "type": "histogram2d"
           }
          ],
          "histogram2dcontour": [
           {
            "colorbar": {
             "outlinewidth": 0,
             "ticks": ""
            },
            "colorscale": [
             [
              0,
              "#0d0887"
             ],
             [
              0.1111111111111111,
              "#46039f"
             ],
             [
              0.2222222222222222,
              "#7201a8"
             ],
             [
              0.3333333333333333,
              "#9c179e"
             ],
             [
              0.4444444444444444,
              "#bd3786"
             ],
             [
              0.5555555555555556,
              "#d8576b"
             ],
             [
              0.6666666666666666,
              "#ed7953"
             ],
             [
              0.7777777777777778,
              "#fb9f3a"
             ],
             [
              0.8888888888888888,
              "#fdca26"
             ],
             [
              1,
              "#f0f921"
             ]
            ],
            "type": "histogram2dcontour"
           }
          ],
          "mesh3d": [
           {
            "colorbar": {
             "outlinewidth": 0,
             "ticks": ""
            },
            "type": "mesh3d"
           }
          ],
          "parcoords": [
           {
            "line": {
             "colorbar": {
              "outlinewidth": 0,
              "ticks": ""
             }
            },
            "type": "parcoords"
           }
          ],
          "pie": [
           {
            "automargin": true,
            "type": "pie"
           }
          ],
          "scatter": [
           {
            "fillpattern": {
             "fillmode": "overlay",
             "size": 10,
             "solidity": 0.2
            },
            "type": "scatter"
           }
          ],
          "scatter3d": [
           {
            "line": {
             "colorbar": {
              "outlinewidth": 0,
              "ticks": ""
             }
            },
            "marker": {
             "colorbar": {
              "outlinewidth": 0,
              "ticks": ""
             }
            },
            "type": "scatter3d"
           }
          ],
          "scattercarpet": [
           {
            "marker": {
             "colorbar": {
              "outlinewidth": 0,
              "ticks": ""
             }
            },
            "type": "scattercarpet"
           }
          ],
          "scattergeo": [
           {
            "marker": {
             "colorbar": {
              "outlinewidth": 0,
              "ticks": ""
             }
            },
            "type": "scattergeo"
           }
          ],
          "scattergl": [
           {
            "marker": {
             "colorbar": {
              "outlinewidth": 0,
              "ticks": ""
             }
            },
            "type": "scattergl"
           }
          ],
          "scattermapbox": [
           {
            "marker": {
             "colorbar": {
              "outlinewidth": 0,
              "ticks": ""
             }
            },
            "type": "scattermapbox"
           }
          ],
          "scatterpolar": [
           {
            "marker": {
             "colorbar": {
              "outlinewidth": 0,
              "ticks": ""
             }
            },
            "type": "scatterpolar"
           }
          ],
          "scatterpolargl": [
           {
            "marker": {
             "colorbar": {
              "outlinewidth": 0,
              "ticks": ""
             }
            },
            "type": "scatterpolargl"
           }
          ],
          "scatterternary": [
           {
            "marker": {
             "colorbar": {
              "outlinewidth": 0,
              "ticks": ""
             }
            },
            "type": "scatterternary"
           }
          ],
          "surface": [
           {
            "colorbar": {
             "outlinewidth": 0,
             "ticks": ""
            },
            "colorscale": [
             [
              0,
              "#0d0887"
             ],
             [
              0.1111111111111111,
              "#46039f"
             ],
             [
              0.2222222222222222,
              "#7201a8"
             ],
             [
              0.3333333333333333,
              "#9c179e"
             ],
             [
              0.4444444444444444,
              "#bd3786"
             ],
             [
              0.5555555555555556,
              "#d8576b"
             ],
             [
              0.6666666666666666,
              "#ed7953"
             ],
             [
              0.7777777777777778,
              "#fb9f3a"
             ],
             [
              0.8888888888888888,
              "#fdca26"
             ],
             [
              1,
              "#f0f921"
             ]
            ],
            "type": "surface"
           }
          ],
          "table": [
           {
            "cells": {
             "fill": {
              "color": "#EBF0F8"
             },
             "line": {
              "color": "white"
             }
            },
            "header": {
             "fill": {
              "color": "#C8D4E3"
             },
             "line": {
              "color": "white"
             }
            },
            "type": "table"
           }
          ]
         },
         "layout": {
          "annotationdefaults": {
           "arrowcolor": "#2a3f5f",
           "arrowhead": 0,
           "arrowwidth": 1
          },
          "autotypenumbers": "strict",
          "coloraxis": {
           "colorbar": {
            "outlinewidth": 0,
            "ticks": ""
           }
          },
          "colorscale": {
           "diverging": [
            [
             0,
             "#8e0152"
            ],
            [
             0.1,
             "#c51b7d"
            ],
            [
             0.2,
             "#de77ae"
            ],
            [
             0.3,
             "#f1b6da"
            ],
            [
             0.4,
             "#fde0ef"
            ],
            [
             0.5,
             "#f7f7f7"
            ],
            [
             0.6,
             "#e6f5d0"
            ],
            [
             0.7,
             "#b8e186"
            ],
            [
             0.8,
             "#7fbc41"
            ],
            [
             0.9,
             "#4d9221"
            ],
            [
             1,
             "#276419"
            ]
           ],
           "sequential": [
            [
             0,
             "#0d0887"
            ],
            [
             0.1111111111111111,
             "#46039f"
            ],
            [
             0.2222222222222222,
             "#7201a8"
            ],
            [
             0.3333333333333333,
             "#9c179e"
            ],
            [
             0.4444444444444444,
             "#bd3786"
            ],
            [
             0.5555555555555556,
             "#d8576b"
            ],
            [
             0.6666666666666666,
             "#ed7953"
            ],
            [
             0.7777777777777778,
             "#fb9f3a"
            ],
            [
             0.8888888888888888,
             "#fdca26"
            ],
            [
             1,
             "#f0f921"
            ]
           ],
           "sequentialminus": [
            [
             0,
             "#0d0887"
            ],
            [
             0.1111111111111111,
             "#46039f"
            ],
            [
             0.2222222222222222,
             "#7201a8"
            ],
            [
             0.3333333333333333,
             "#9c179e"
            ],
            [
             0.4444444444444444,
             "#bd3786"
            ],
            [
             0.5555555555555556,
             "#d8576b"
            ],
            [
             0.6666666666666666,
             "#ed7953"
            ],
            [
             0.7777777777777778,
             "#fb9f3a"
            ],
            [
             0.8888888888888888,
             "#fdca26"
            ],
            [
             1,
             "#f0f921"
            ]
           ]
          },
          "colorway": [
           "#636efa",
           "#EF553B",
           "#00cc96",
           "#ab63fa",
           "#FFA15A",
           "#19d3f3",
           "#FF6692",
           "#B6E880",
           "#FF97FF",
           "#FECB52"
          ],
          "font": {
           "color": "#2a3f5f"
          },
          "geo": {
           "bgcolor": "white",
           "lakecolor": "white",
           "landcolor": "#E5ECF6",
           "showlakes": true,
           "showland": true,
           "subunitcolor": "white"
          },
          "hoverlabel": {
           "align": "left"
          },
          "hovermode": "closest",
          "mapbox": {
           "style": "light"
          },
          "paper_bgcolor": "white",
          "plot_bgcolor": "#E5ECF6",
          "polar": {
           "angularaxis": {
            "gridcolor": "white",
            "linecolor": "white",
            "ticks": ""
           },
           "bgcolor": "#E5ECF6",
           "radialaxis": {
            "gridcolor": "white",
            "linecolor": "white",
            "ticks": ""
           }
          },
          "scene": {
           "xaxis": {
            "backgroundcolor": "#E5ECF6",
            "gridcolor": "white",
            "gridwidth": 2,
            "linecolor": "white",
            "showbackground": true,
            "ticks": "",
            "zerolinecolor": "white"
           },
           "yaxis": {
            "backgroundcolor": "#E5ECF6",
            "gridcolor": "white",
            "gridwidth": 2,
            "linecolor": "white",
            "showbackground": true,
            "ticks": "",
            "zerolinecolor": "white"
           },
           "zaxis": {
            "backgroundcolor": "#E5ECF6",
            "gridcolor": "white",
            "gridwidth": 2,
            "linecolor": "white",
            "showbackground": true,
            "ticks": "",
            "zerolinecolor": "white"
           }
          },
          "shapedefaults": {
           "line": {
            "color": "#2a3f5f"
           }
          },
          "ternary": {
           "aaxis": {
            "gridcolor": "white",
            "linecolor": "white",
            "ticks": ""
           },
           "baxis": {
            "gridcolor": "white",
            "linecolor": "white",
            "ticks": ""
           },
           "bgcolor": "#E5ECF6",
           "caxis": {
            "gridcolor": "white",
            "linecolor": "white",
            "ticks": ""
           }
          },
          "title": {
           "x": 0.05
          },
          "xaxis": {
           "automargin": true,
           "gridcolor": "white",
           "linecolor": "white",
           "ticks": "",
           "title": {
            "standoff": 15
           },
           "zerolinecolor": "white",
           "zerolinewidth": 2
          },
          "yaxis": {
           "automargin": true,
           "gridcolor": "white",
           "linecolor": "white",
           "ticks": "",
           "title": {
            "standoff": 15
           },
           "zerolinecolor": "white",
           "zerolinewidth": 2
          }
         }
        },
        "xaxis": {
         "anchor": "y",
         "domain": [
          0,
          1
         ],
         "gridcolor": "white",
         "gridwidth": 1,
         "nticks": 50,
         "showgrid": true,
         "tickangle": -45,
         "title": {
          "font": {
           "size": 20
          }
         }
        },
        "yaxis": {
         "anchor": "x",
         "domain": [
          0,
          1
         ]
        }
       }
      }
     },
     "metadata": {},
     "output_type": "display_data"
    }
   ],
   "source": [
    "import plotly.graph_objects as go\n",
    "from plotly.subplots import make_subplots\n",
    "\n",
    "fig = make_subplots(rows=1, cols=1, shared_xaxes=True)\n",
    "\n",
    "fig.add_trace(go.Candlestick(\n",
    "                  x=df.index[-100:],\n",
    "                  open=df['open'][-100:],\n",
    "                  high=df['high'][-100:],\n",
    "                  low=df['low'][-100:],\n",
    "                  close=df['close'][-100:], name='price'), row=1, col=1,\n",
    ")\n",
    "fig.update_xaxes(\n",
    "    tickangle = -45,\n",
    "    title_font = {\"size\": 20},\n",
    "    nticks=50,\n",
    "    showgrid=True, gridwidth=1, gridcolor='white'\n",
    ")\n",
    "#fig.add_trace(go.Bar(x=df['time'], y=df['volume'], name='volume'),\n",
    "              #row=2, col=1)\n",
    "fig.show()"
   ]
  },
  {
   "cell_type": "code",
   "execution_count": 9,
   "metadata": {},
   "outputs": [
    {
     "data": {
      "text/plain": [
       "<AxesSubplot:>"
      ]
     },
     "execution_count": 9,
     "metadata": {},
     "output_type": "execute_result"
    },
    {
     "data": {
      "image/png": "[encoded data removed]",
      "text/plain": [
       "<Figure size 432x288 with 1 Axes>"
      ]
     },
     "metadata": {},
     "output_type": "display_data"
    }
   ],
   "source": [
    "df['volume'].hist(bins=100)"
   ]
  },
  {
   "cell_type": "code",
   "execution_count": 22,
   "metadata": {},
   "outputs": [],
   "source": [
    "def correlation(df):\n",
    "  corr_mat = df.corr(method='pearson', min_periods=1)\n",
    "\n",
    "  fig, ax = plt.subplots(1, 1, figsize=(6, 5))\n",
    "  sns.heatmap(corr_mat, cmap=\"YlGnBu\", linewidths=0.5, linecolor='black')\n",
    "  ax.set_xticklabels(ax.get_xmajorticklabels(), fontsize = 15)\n",
    "  ax.set_yticklabels(ax.get_ymajorticklabels(), fontsize = 15)\n",
    "  ax.tick_params(top=True, bottom=False,\n",
    "                   labeltop=True, labelbottom=False)\n",
    "  plt.setp(ax.get_xticklabels(), rotation=-40, ha=\"right\",\n",
    "             rotation_mode=\"anchor\")\n",
    "\n",
    "  # ax.grid(which=\"minor\", color=\"w\", linestyle='-', linewidth=3)\n",
    "  fig.tight_layout()\n",
    "  ax.set_title('Correlation map', fontsize=23)\n",
    "  plt.show()"
   ]
  },
  {
   "cell_type": "markdown",
   "metadata": {},
   "source": [
    "Al hacer el analisis se ha visto que faltan fechas. Por un lado estan los dias que corresponden a sabado y domingo donde la bolsa no esta abierta. Por otro lado he realizado un analisis del resto de dias que faltan. Estos corresponden a festivos en España donde la bolsa tampoco abre. Descartando las fechas que son fines de semana y festivos, quedan 29 fechas que corresponden a dias laborales y que no tenemos dato de ello. En algunos casos el dia anterior a esas fechas era festivo, por lo que: **he asumido que en algunos casos los dias siguientes a los festivos tambien se consideraron festivos y la bolsa no abrio ese dia** y que la libreria *holidays* no los tuvo en cuenta como festivos. En conclusion, he decidido no rellenar ninguno de los dias que faltan, fiandome de los datos del concurso."
   ]
  },
  {
   "cell_type": "markdown",
   "metadata": {},
   "source": [
    "### 1.2 Analice dates that left"
   ]
  },
  {
   "cell_type": "code",
   "execution_count": 13,
   "metadata": {},
   "outputs": [
    {
     "name": "stdout",
     "output_type": "stream",
     "text": [
      "['Viernes Santo' None 'Día del Trabajador' 'Navidad' None 'Viernes Santo'\n",
      " None 'Día del Trabajador' 'Navidad' None None 'Año nuevo' 'Viernes Santo'\n",
      " None 'Día del Trabajador' None 'Navidad' None None 'Año nuevo'\n",
      " 'Viernes Santo' None 'Día del Trabajador' None 'Navidad' None 'Año nuevo'\n",
      " 'Viernes Santo' None None None 'Viernes Santo' None\n",
      " 'Navidad (Trasladado)' 'Viernes Santo' None 'Día del Trabajador'\n",
      " 'Navidad' None 'Año nuevo' 'Viernes Santo' None 'Día del Trabajador'\n",
      " 'Navidad' None 'Año nuevo' 'Viernes Santo' None 'Día del Trabajador'\n",
      " 'Navidad' None 'Año nuevo' 'Viernes Santo' None 'Día del Trabajador'\n",
      " 'Navidad' 'Año nuevo' 'Viernes Santo' None 'Navidad (Trasladado)'\n",
      " 'Viernes Santo' None 'Día del Trabajador' 'Navidad' None 'Año nuevo'\n",
      " 'Viernes Santo' None 'Día del Trabajador' 'Navidad' None 'Año nuevo'\n",
      " 'Viernes Santo' None 'Día del Trabajador']\n",
      "(75,)\n",
      "(29,)\n"
     ]
    }
   ],
   "source": [
    "idx = pd.date_range(df.date[0], df.date[-1], freq='1B')\n",
    "aux = df.reindex(idx)\n",
    "\n",
    "import holidays\n",
    "sp_holidays = holidays.Spain()\n",
    "\n",
    "festivos = aux[aux['date'].isna()].index.to_series().apply(lambda x: sp_holidays.get(x))\n",
    "print(festivos.values)\n",
    "print(festivos.shape)\n",
    "print(festivos[festivos.isna()].shape)"
   ]
  },
  {
   "cell_type": "markdown",
   "metadata": {},
   "source": [
    "## 2.Preprocesss"
   ]
  },
  {
   "cell_type": "markdown",
   "metadata": {},
   "source": [
    "### 2.1 Interpolate"
   ]
  },
  {
   "cell_type": "code",
   "execution_count": 9,
   "metadata": {},
   "outputs": [],
   "source": [
    "# Interpolate all columns as some of them has Nans\n",
    "dfi = df.copy()\n",
    "cols2inter = df.columns.drop('target')\n",
    "dfi[cols2inter] = df[cols2inter].interpolate(method='spline', order=3, limit_direction='forward', axis=0)"
   ]
  },
  {
   "cell_type": "code",
   "execution_count": 10,
   "metadata": {},
   "outputs": [
    {
     "data": {
      "image/png": "[encoded data removed]",
      "text/plain": [
       "<Figure size 1440x216 with 1 Axes>"
      ]
     },
     "metadata": {},
     "output_type": "display_data"
    },
    {
     "data": {
      "image/png": "[encoded data removed]",
      "text/plain": [
       "<Figure size 1440x216 with 1 Axes>"
      ]
     },
     "metadata": {},
     "output_type": "display_data"
    }
   ],
   "source": [
    "s = 0\n",
    "e = -1\n",
    "\n",
    "col = 'close'\n",
    "fig = plt.figure(figsize=(20, 3))\n",
    "plt.plot(dfi.index[s:e], dfi[col][s:e], '.', color='blue', label='new')\n",
    "plt.plot(df.index[s:e], df[col][s:e], '.', color='red', label='old')\n",
    "plt.legend()\n",
    "plt.show()\n",
    "\n",
    "col = 'volume'\n",
    "fig = plt.figure(figsize=(20, 3))\n",
    "plt.plot(dfi.index[s:e], dfi[col][s:e], '.', color='blue', label='new')\n",
    "plt.plot(df.index[s:e], df[col][s:e], '.', color='red', label='old')\n",
    "plt.legend()\n",
    "plt.show()"
   ]
  },
  {
   "cell_type": "markdown",
   "metadata": {},
   "source": [
    "### 2.2 Add new data"
   ]
  },
  {
   "cell_type": "code",
   "execution_count": 12,
   "metadata": {},
   "outputs": [],
   "source": [
    "# Tech indicators are the main tools in Trading and the analysis of the stocks. In short, they are just ratios of how the price and/or volume are moving.\n",
    "def add_tech_indicators(df, fillnans = True):\n",
    "  import ta #https://technical-analysis-library-in-python.readthedocs.io/en/latest/\n",
    "\n",
    "  df_tech = df.copy()\n",
    "\n",
    "  #MOMENTUM\n",
    "  indicator = ta.momentum.PercentagePriceOscillator(close = df_tech[f'close'],\n",
    "                                                    window_slow = 26,\n",
    "                                                    window_fast = 12,\n",
    "                                                    window_sign = 9,\n",
    "                                                    fillna = fillnans)\n",
    "  df_tech[f'PPO'] = indicator.ppo()\n",
    "\n",
    "  # indicator = ta.momentum.ROCIndicator(close = df_tech[f'close'], window = 12, fillna = fillnans)\n",
    "  # df_tech[f'ROC'] = indicator.roc()\n",
    "\n",
    "  # indicator = ta.momentum.RSIIndicator(close = df_tech[f'close'], window = 14, fillna = fillnans)\n",
    "  # df_tech[f'RSI'] = indicator.rsi()\n",
    "\n",
    "  indicator = ta.momentum.StochRSIIndicator(close = df_tech[f'close'], window = 7, smooth1 = 3, smooth2 = 3, fillna = fillnans)\n",
    "  df_tech[f'StRSI'] = indicator.stochrsi()\n",
    "\n",
    "  #VOLUME\n",
    "  indicator = indicator = ta.volume.MFIIndicator(high = df_tech[f'high'],\n",
    "                                                low = df_tech[f'low'],\n",
    "                                                close = df_tech[f'close'],\n",
    "                                                volume = df_tech[f'volume'],\n",
    "                                                window = 7, fillna = fillnans)\n",
    "  df_tech[f'MFI'] = indicator.money_flow_index()\n",
    "\n",
    "  #VOLATILITY\n",
    "  # indicator = ta.volatility.DonchianChannel(high = df_tech[f'high'],\n",
    "  #                                           low = df_tech[f'low'],\n",
    "  #                                           close = df_tech[f'close'],\n",
    "  #                                           window = 20, offset = 0, fillna = fillnans)\n",
    "  # df_tech[f'mDNCH'] = indicator.donchian_channel_mband()\n",
    "\n",
    "  #TREND\n",
    "  indicator = ta.trend.CCIIndicator(high = df_tech[f'high'],\n",
    "                                    low = df_tech[f'low'],\n",
    "                                    close = df_tech[f'close'],\n",
    "                                    window = 14, constant = 0.015, fillna = fillnans)\n",
    "  df_tech[f'CCI'] = indicator.cci()\n",
    "  max_bound = 500\n",
    "  df_tech[f'CCI'][df_tech[f'CCI'] > max_bound] = max_bound\n",
    "  df_tech[f'CCI'][df_tech[f'CCI'] < -max_bound] = -max_bound\n",
    "\n",
    "  indicator = ta.trend.EMAIndicator(close = df_tech[f'close'], window = 7, fillna = fillnans)\n",
    "  df_tech[f'EMA'] = indicator.ema_indicator()\n",
    "\n",
    "  # indicator = ta.trend.MACD(close = df_tech[f'close'], window_slow = 26, window_fast = 12, window_sign = 9, fillna = fillnans)\n",
    "  # df_tech[f'MACD'] = indicator.macd()\n",
    "\n",
    "  #TYPICAL PRICE\n",
    "  df_tech['typical'] = (df_tech[f'high'] + df_tech[f'low'] + df_tech[f'close']) / 3.0\n",
    "\n",
    "  return df_tech\n",
    "\n",
    "# Dates cant be interpreted well by the model as he doesnt understand than monday goes after sunday. Transforming dates to sin/cos lets us create cycles.\n",
    "def parse_date_to_sin_cos(df_raw):\n",
    "\n",
    "  day_sec   = 24 * 60 * 60\n",
    "  week_sec  = day_sec * 7\n",
    "  year_sec  = day_sec * 365.2425\n",
    "\n",
    "  df = df_raw.copy()\n",
    "  timestamp_s = df.index.map(datetime.datetime.timestamp)\n",
    "  df['wcos']   = np.cos(timestamp_s * (2.0 * np.pi / week_sec))\n",
    "  df['ycos']   = np.cos(timestamp_s * (2.0 * np.pi / year_sec))\n",
    "  # df['dcos']    = np.cos(timestamp_s * (2.0 * np.pi / day_sec))\n",
    "\n",
    "  return df\n"
   ]
  },
  {
   "cell_type": "code",
   "execution_count": 13,
   "metadata": {},
   "outputs": [],
   "source": [
    "# If we want to use volume column, we should discard first half of dates\n",
    "# df = dfi\n",
    "df = dfi[dfi['date'] > '2011-01-01']"
   ]
  },
  {
   "cell_type": "code",
   "execution_count": 14,
   "metadata": {},
   "outputs": [
    {
     "name": "stdout",
     "output_type": "stream",
     "text": [
      "1    1123\n",
      "0    1027\n",
      "Name: target, dtype: int64\n"
     ]
    }
   ],
   "source": [
    "# Balanced?\n",
    "print(df['target'].value_counts())"
   ]
  },
  {
   "cell_type": "code",
   "execution_count": 15,
   "metadata": {},
   "outputs": [
    {
     "name": "stderr",
     "output_type": "stream",
     "text": [
      "c:\\Users\\anton\\anaconda3\\envs\\ML\\lib\\site-packages\\ipykernel_launcher.py:46: SettingWithCopyWarning: \n",
      "A value is trying to be set on a copy of a slice from a DataFrame\n",
      "\n",
      "See the caveats in the documentation: https://pandas.pydata.org/pandas-docs/stable/user_guide/indexing.html#returning-a-view-versus-a-copy\n",
      "c:\\Users\\anton\\anaconda3\\envs\\ML\\lib\\site-packages\\ipykernel_launcher.py:47: SettingWithCopyWarning: \n",
      "A value is trying to be set on a copy of a slice from a DataFrame\n",
      "\n",
      "See the caveats in the documentation: https://pandas.pydata.org/pandas-docs/stable/user_guide/indexing.html#returning-a-view-versus-a-copy\n"
     ]
    }
   ],
   "source": [
    "df = add_tech_indicators(df)\n",
    "# df = parse_date_to_sin_cos(df)"
   ]
  },
  {
   "cell_type": "code",
   "execution_count": 23,
   "metadata": {},
   "outputs": [
    {
     "data": {
      "image/png": "[encoded data removed]",
      "text/plain": [
       "<Figure size 432x360 with 2 Axes>"
      ]
     },
     "metadata": {},
     "output_type": "display_data"
    }
   ],
   "source": [
    "correlation(df)"
   ]
  },
  {
   "cell_type": "markdown",
   "metadata": {},
   "source": [
    "### 2.3 Decide target"
   ]
  },
  {
   "cell_type": "code",
   "execution_count": 24,
   "metadata": {},
   "outputs": [],
   "source": [
    "# After many experiments, the neural network models had problems learning as classifiers\n",
    "# Using as target the future price, showed better results. Having the price on day0 and day+3 we canb calculate the real target.\n",
    "df['target_close'] = df['close'].shift(-3)\n",
    "df = df.drop(['date','target'], axis=1)\n",
    "df = df.dropna()"
   ]
  },
  {
   "cell_type": "code",
   "execution_count": 26,
   "metadata": {},
   "outputs": [
    {
     "data": {
      "text/html": [
       "<div>\n",
       "<style scoped>\n",
       "    .dataframe tbody tr th:only-of-type {\n",
       "        vertical-align: middle;\n",
       "    }\n",
       "\n",
       "    .dataframe tbody tr th {\n",
       "        vertical-align: top;\n",
       "    }\n",
       "\n",
       "    .dataframe thead th {\n",
       "        text-align: right;\n",
       "    }\n",
       "</style>\n",
       "<table border=\"1\" class=\"dataframe\">\n",
       "  <thead>\n",
       "    <tr style=\"text-align: right;\">\n",
       "      <th></th>\n",
       "      <th>open</th>\n",
       "      <th>high</th>\n",
       "      <th>low</th>\n",
       "      <th>close</th>\n",
       "      <th>adj close</th>\n",
       "      <th>volume</th>\n",
       "      <th>PPO</th>\n",
       "      <th>StRSI</th>\n",
       "      <th>MFI</th>\n",
       "      <th>CCI</th>\n",
       "      <th>EMA</th>\n",
       "      <th>typical</th>\n",
       "      <th>target_close</th>\n",
       "    </tr>\n",
       "  </thead>\n",
       "  <tbody>\n",
       "    <tr>\n",
       "      <th>count</th>\n",
       "      <td>2147.000000</td>\n",
       "      <td>2147.000000</td>\n",
       "      <td>2147.000000</td>\n",
       "      <td>2147.000000</td>\n",
       "      <td>2147.000000</td>\n",
       "      <td>2.147000e+03</td>\n",
       "      <td>2147.000000</td>\n",
       "      <td>2147.000000</td>\n",
       "      <td>2147.000000</td>\n",
       "      <td>2147.000000</td>\n",
       "      <td>2147.000000</td>\n",
       "      <td>2147.000000</td>\n",
       "      <td>2147.000000</td>\n",
       "    </tr>\n",
       "    <tr>\n",
       "      <th>mean</th>\n",
       "      <td>9436.754079</td>\n",
       "      <td>9505.442309</td>\n",
       "      <td>9354.623644</td>\n",
       "      <td>9432.169318</td>\n",
       "      <td>9432.163118</td>\n",
       "      <td>2.358039e+08</td>\n",
       "      <td>-0.034670</td>\n",
       "      <td>0.512560</td>\n",
       "      <td>51.030594</td>\n",
       "      <td>0.825752</td>\n",
       "      <td>9433.133214</td>\n",
       "      <td>9430.745090</td>\n",
       "      <td>9431.168851</td>\n",
       "    </tr>\n",
       "    <tr>\n",
       "      <th>std</th>\n",
       "      <td>1134.786208</td>\n",
       "      <td>1129.251764</td>\n",
       "      <td>1139.363960</td>\n",
       "      <td>1134.945656</td>\n",
       "      <td>1134.945204</td>\n",
       "      <td>8.900012e+07</td>\n",
       "      <td>1.319289</td>\n",
       "      <td>0.403062</td>\n",
       "      <td>22.154263</td>\n",
       "      <td>107.174043</td>\n",
       "      <td>1124.550457</td>\n",
       "      <td>1133.771136</td>\n",
       "      <td>1134.884487</td>\n",
       "    </tr>\n",
       "    <tr>\n",
       "      <th>min</th>\n",
       "      <td>5950.399902</td>\n",
       "      <td>6093.100098</td>\n",
       "      <td>5905.299805</td>\n",
       "      <td>5956.299805</td>\n",
       "      <td>5956.293945</td>\n",
       "      <td>4.520760e+07</td>\n",
       "      <td>-4.772995</td>\n",
       "      <td>0.000000</td>\n",
       "      <td>0.000000</td>\n",
       "      <td>-329.287581</td>\n",
       "      <td>6240.213320</td>\n",
       "      <td>6012.466634</td>\n",
       "      <td>5956.299805</td>\n",
       "    </tr>\n",
       "    <tr>\n",
       "      <th>25%</th>\n",
       "      <td>8598.250000</td>\n",
       "      <td>8659.949707</td>\n",
       "      <td>8515.449707</td>\n",
       "      <td>8596.750000</td>\n",
       "      <td>8596.745606</td>\n",
       "      <td>1.704224e+08</td>\n",
       "      <td>-0.738333</td>\n",
       "      <td>0.057856</td>\n",
       "      <td>35.453864</td>\n",
       "      <td>-82.481321</td>\n",
       "      <td>8576.748301</td>\n",
       "      <td>8592.783366</td>\n",
       "      <td>8596.750000</td>\n",
       "    </tr>\n",
       "    <tr>\n",
       "      <th>50%</th>\n",
       "      <td>9537.000000</td>\n",
       "      <td>9593.000000</td>\n",
       "      <td>9468.099609</td>\n",
       "      <td>9531.099609</td>\n",
       "      <td>9531.099609</td>\n",
       "      <td>2.227916e+08</td>\n",
       "      <td>0.073152</td>\n",
       "      <td>0.509852</td>\n",
       "      <td>50.757813</td>\n",
       "      <td>0.288279</td>\n",
       "      <td>9541.217349</td>\n",
       "      <td>9532.233073</td>\n",
       "      <td>9527.200195</td>\n",
       "    </tr>\n",
       "    <tr>\n",
       "      <th>75%</th>\n",
       "      <td>10349.449707</td>\n",
       "      <td>10410.200195</td>\n",
       "      <td>10270.600098</td>\n",
       "      <td>10339.299805</td>\n",
       "      <td>10339.289063</td>\n",
       "      <td>2.844086e+08</td>\n",
       "      <td>0.768253</td>\n",
       "      <td>0.995082</td>\n",
       "      <td>68.565479</td>\n",
       "      <td>88.384715</td>\n",
       "      <td>10319.823924</td>\n",
       "      <td>10340.216471</td>\n",
       "      <td>10339.299805</td>\n",
       "    </tr>\n",
       "    <tr>\n",
       "      <th>max</th>\n",
       "      <td>11798.500000</td>\n",
       "      <td>11884.599609</td>\n",
       "      <td>11760.799805</td>\n",
       "      <td>11866.400391</td>\n",
       "      <td>11866.388672</td>\n",
       "      <td>7.894902e+08</td>\n",
       "      <td>3.554031</td>\n",
       "      <td>1.000000</td>\n",
       "      <td>100.000000</td>\n",
       "      <td>356.439841</td>\n",
       "      <td>11726.179281</td>\n",
       "      <td>11837.266602</td>\n",
       "      <td>11866.400391</td>\n",
       "    </tr>\n",
       "  </tbody>\n",
       "</table>\n",
       "</div>"
      ],
      "text/plain": [
       "               open          high           low         close     adj close  \\\n",
       "count   2147.000000   2147.000000   2147.000000   2147.000000   2147.000000   \n",
       "mean    9436.754079   9505.442309   9354.623644   9432.169318   9432.163118   \n",
       "std     1134.786208   1129.251764   1139.363960   1134.945656   1134.945204   \n",
       "min     5950.399902   6093.100098   5905.299805   5956.299805   5956.293945   \n",
       "25%     8598.250000   8659.949707   8515.449707   8596.750000   8596.745606   \n",
       "50%     9537.000000   9593.000000   9468.099609   9531.099609   9531.099609   \n",
       "75%    10349.449707  10410.200195  10270.600098  10339.299805  10339.289063   \n",
       "max    11798.500000  11884.599609  11760.799805  11866.400391  11866.388672   \n",
       "\n",
       "             volume          PPO        StRSI          MFI          CCI  \\\n",
       "count  2.147000e+03  2147.000000  2147.000000  2147.000000  2147.000000   \n",
       "mean   2.358039e+08    -0.034670     0.512560    51.030594     0.825752   \n",
       "std    8.900012e+07     1.319289     0.403062    22.154263   107.174043   \n",
       "min    4.520760e+07    -4.772995     0.000000     0.000000  -329.287581   \n",
       "25%    1.704224e+08    -0.738333     0.057856    35.453864   -82.481321   \n",
       "50%    2.227916e+08     0.073152     0.509852    50.757813     0.288279   \n",
       "75%    2.844086e+08     0.768253     0.995082    68.565479    88.384715   \n",
       "max    7.894902e+08     3.554031     1.000000   100.000000   356.439841   \n",
       "\n",
       "                EMA       typical  target_close  \n",
       "count   2147.000000   2147.000000   2147.000000  \n",
       "mean    9433.133214   9430.745090   9431.168851  \n",
       "std     1124.550457   1133.771136   1134.884487  \n",
       "min     6240.213320   6012.466634   5956.299805  \n",
       "25%     8576.748301   8592.783366   8596.750000  \n",
       "50%     9541.217349   9532.233073   9527.200195  \n",
       "75%    10319.823924  10340.216471  10339.299805  \n",
       "max    11726.179281  11837.266602  11866.400391  "
      ]
     },
     "execution_count": 26,
     "metadata": {},
     "output_type": "execute_result"
    }
   ],
   "source": [
    "df.describe()"
   ]
  },
  {
   "cell_type": "markdown",
   "metadata": {},
   "source": [
    "## 3.Train"
   ]
  },
  {
   "cell_type": "markdown",
   "metadata": {},
   "source": [
    "### 3.1 Neural Networks"
   ]
  },
  {
   "cell_type": "code",
   "execution_count": 27,
   "metadata": {},
   "outputs": [
    {
     "name": "stdout",
     "output_type": "stream",
     "text": [
      "tensorflow version: 2.8.0\n",
      "sklearn version: 1.0.2\n"
     ]
    }
   ],
   "source": [
    "import tensorflow as tf\n",
    "import sklearn\n",
    "print(f'tensorflow version: {tf.__version__}')\n",
    "print(f'sklearn version: {sklearn.__version__}')\n",
    "\n",
    "from keras.models import load_model\n",
    "from tensorflow import keras\n",
    "from tensorflow.keras import layers\n",
    "from tensorflow.keras.models import Sequential\n",
    "from tensorflow.keras.layers import Dense, Flatten, Conv1D, LSTM, GRU, Bidirectional\n",
    "from tensorflow.keras.layers import Input, Activation, LeakyReLU,  ReLU, Embedding, Dropout, BatchNormalization\n",
    "from tensorflow.keras.initializers import he_uniform\n",
    "\n",
    "from tensorflow.keras import backend as K\n",
    "from tensorflow.python.framework import ops\n",
    "from tensorflow.python.ops import math_ops\n",
    "\n",
    "# tf.random.set_seed(1234)\n",
    "from sklearn.model_selection import TimeSeriesSplit\n",
    "from sklearn.preprocessing import StandardScaler, MinMaxScaler, PowerTransformer, QuantileTransformer, RobustScaler"
   ]
  },
  {
   "cell_type": "markdown",
   "metadata": {},
   "source": [
    "#### 3.1.1 Utils"
   ]
  },
  {
   "cell_type": "code",
   "execution_count": 28,
   "metadata": {},
   "outputs": [],
   "source": [
    "def histories_mean(histories):\n",
    "  \"\"\"Make the mean learning curve of the kfolds\n",
    "  \"\"\"\n",
    "  history_array = histories #copy histories\n",
    "  history_mean = history_array[0] #get first kfold\n",
    "  epochs = len(histories[0].history['loss'])\n",
    "  nfolds = len(histories)\n",
    "  # print(epochs, nfolds)\n",
    "\n",
    "  for i in range(epochs):\n",
    "    for j in range(1, nfolds):\n",
    "      if i >= len(history_array[j].history['loss']):\n",
    "        continue\n",
    "      history_mean.history['loss'][i] += history_array[j].history['loss'][i]\n",
    "      history_mean.history['val_loss'][i] += history_array[j].history['val_loss'][i]\n",
    "\n",
    "    history_mean.history['loss'][i] /= nfolds\n",
    "    history_mean.history['val_loss'][i] /= nfolds\n",
    "\n",
    "  return history_mean\n",
    "\n",
    "def plot_learning_curves(histories, title):\n",
    "  \"\"\"Plots the learning curve of the kfolds\n",
    "  \"\"\"\n",
    "  history_mean = histories_mean(histories)\n",
    "\n",
    "  fig = plt.figure(figsize=(20, 4))\n",
    "  start_epoch = 5 #first epocs are too big\n",
    "  # Loss plots\n",
    "  ax1 = fig.add_subplot(1, 2, 1)\n",
    "  ax1.set_title('Loss')\n",
    "  ax1.set_xlabel('epochs')\n",
    "  ax1.set_ylabel('loss')\n",
    "  ax1.plot(history_mean.history['loss'][start_epoch:], color='blue', label='train')\n",
    "  ax1.plot(history_mean.history['val_loss'][start_epoch:], color='orange', label='validation')\n",
    "\n",
    "  if 'accuracy' in history_mean.history.keys():\n",
    "    ax2 = fig.add_subplot(1, 2, 2)\n",
    "    ax2.set_title('accuracy')\n",
    "    ax2.set_xlabel('epochs')\n",
    "    ax2.set_ylabel('accuracy')\n",
    "    ax2.plot(history_mean.history['accuracy'][start_epoch:], color='blue', label='train')\n",
    "    ax2.plot(history_mean.history['val_accuracy'][start_epoch:], color='orange', label='validation')\n",
    "\n",
    "  plt.subplots_adjust(top=0.85, bottom=0.10, left=0.05, right=0.95, hspace=0.5, wspace=0.40)\n",
    "\n",
    "  plt.legend()\n",
    "  plt.suptitle(title)\n",
    "  plt.show()"
   ]
  },
  {
   "cell_type": "code",
   "execution_count": 29,
   "metadata": {},
   "outputs": [],
   "source": [
    "\n",
    "def transform_data_to_lstm (df_raw, cols, scaler, past_size=5, fit=False, pct_change=False):\n",
    "  \"\"\"In order to use LSTM architectures we need to reshape the data\n",
    "  \"\"\"\n",
    "  df = df_raw.copy()\n",
    "  # save outputs before scaling the data\n",
    "  LSTM_output = df['target_close'][past_size-1:-1]\n",
    "\n",
    "  if not pct_change:\n",
    "    scaler, df = scale(df, cols_to_scale=cols, scaler=scaler, fit=fit)\n",
    "\n",
    "  LSTM_inputs = []\n",
    "  for i in range(len(df)-past_size):\n",
    "    tmp_df = df[cols][i:(i+past_size)].copy()\n",
    "    if pct_change:\n",
    "      cols_change = ['open',\t'high',\t'low','close','adj close','volume','typical']\n",
    "      tmp_df[cols_change] = tmp_df[cols_change].pct_change(1)   # Transform values from absolute to relative %\n",
    "      tmp_df = tmp_df.iloc[1:]\n",
    "    LSTM_inputs.append(tmp_df)\n",
    "\n",
    "  return   np.asarray(LSTM_inputs), LSTM_output, scaler\n",
    "\n",
    "def get_ready_data(df_raw, scaler, kind=1, past_size=5, fit=False, pct_change=False):\n",
    "  \"\"\"Prepare the data ready for training. The data format is indicated by @kind argument\n",
    "  \"\"\"\n",
    "  dfx = dfy = pd.DataFrame()\n",
    "  df = df_raw.copy()\n",
    "  cols_to_scale = df.columns.to_list()\n",
    "  cols_to_scale.remove(f'target_close')\n",
    "\n",
    "  if kind == FORWARD_:\n",
    "    scaler, df = scale(df, cols_to_scale=cols_to_scale, scaler=scaler, fit=fit)\n",
    "    dfx, dfy = df[cols_to_scale], df['target_close']\n",
    "\n",
    "  elif kind == LSTM_:\n",
    "    dfx, dfy, scaler = transform_data_to_lstm(df, cols=cols_to_scale, scaler=scaler, past_size=past_size, fit=fit, pct_change=pct_change)\n",
    "  else:\n",
    "    print(\"Unexpected error\")\n",
    "    raise\n",
    "\n",
    "  return dfx, dfy, scaler"
   ]
  },
  {
   "cell_type": "code",
   "execution_count": 30,
   "metadata": {},
   "outputs": [],
   "source": [
    "# Best scalers by experience\n",
    "scaler_list = {\n",
    "    'Standard'  : StandardScaler(),\n",
    "    'MinMax'    : MinMaxScaler(feature_range=(0, 1)),\n",
    "    'Robust'    : RobustScaler(quantile_range=(25, 75)),\n",
    "    # 'Power'     : PowerTransformer(method='yeo-johnson'),\n",
    "    # 'Quantile-uniform' :  QuantileTransformer(output_distribution='uniform'),\n",
    "    # 'Quantile-normal'  :  QuantileTransformer(output_distribution='normal')\n",
    "}\n",
    "\n",
    "def scale(df, cols_to_scale, scaler, fit=False):\n",
    "  \"\"\"Scale the columns of a dataset\n",
    "  \"\"\"\n",
    "  df_copy = df.copy()\n",
    "  cols_not_scaled = [col for col in df_copy.columns if col not in cols_to_scale]\n",
    "\n",
    "  if fit:\n",
    "    scaler = scaler.fit(df_copy[cols_to_scale])\n",
    "    print(f'Fit: {fit}')\n",
    "\n",
    "  # Transform dataset\n",
    "  scaled = scaler.transform(df_copy[cols_to_scale])\n",
    "  scaled = pd.DataFrame(data=scaled, index=df_copy.index, columns=cols_to_scale)\n",
    "  scaled = scaled.join(df_copy[cols_not_scaled])\n",
    "  return scaler, scaled"
   ]
  },
  {
   "cell_type": "code",
   "execution_count": 31,
   "metadata": {},
   "outputs": [],
   "source": [
    "def SMAPE(y_true, y_pred):\n",
    "  \"\"\"Custom loss functions. In my opinion the best loss function ever when we have a regression problem with undefined limit of possible real value\n",
    "  \"\"\"\n",
    "  y_pred = ops.convert_to_tensor_v2_with_dispatch(y_pred)\n",
    "  y_true = math_ops.cast(y_true, y_pred.dtype)\n",
    "\n",
    "  nom = tf.math.abs(y_pred-y_true)\n",
    "  denom = tf.maximum(tf.math.abs(y_pred) + tf.math.abs(y_true), tf.constant([0.00001], dtype=nom.dtype))\n",
    "  denom = tf.divide(denom, 2.0)\n",
    "  results = tf.divide(nom, denom)\n",
    "  results = 100.0 * tf.reduce_mean(results)\n",
    "\n",
    "  return results"
   ]
  },
  {
   "cell_type": "markdown",
   "metadata": {},
   "source": [
    "#### 3.1.2 Models"
   ]
  },
  {
   "cell_type": "code",
   "execution_count": 32,
   "metadata": {},
   "outputs": [],
   "source": [
    "def custom_dense(size, activation = ReLU()):\n",
    "  x = Dense(\n",
    "      size, activation=activation,\n",
    "      # kernel_regularizer=tf.keras.regularizers.L2(l2=0.001),\n",
    "      kernel_initializer=tf.keras.initializers.RandomUniform()\n",
    "  )\n",
    "  return x\n",
    "\n",
    "def custom_lstm(size, return_sequences):\n",
    "  x = LSTM(\n",
    "      size, activation='relu'\n",
    "    , return_sequences=return_sequences\n",
    "    # , kernel_regularizer=tf.keras.regularizers.L2(l2=0.001)\n",
    "    , kernel_initializer=tf.keras.initializers.RandomUniform()\n",
    "  )\n",
    "  return x\n",
    "\n",
    "def custom_gru(size, return_sequences):\n",
    "  x = GRU(\n",
    "      size, activation='relu'\n",
    "    , return_sequences=return_sequences\n",
    "    # , kernel_regularizer=tf.keras.regularizers.L2(l2=0.001)\n",
    "    , kernel_initializer=tf.keras.initializers.RandomUniform()\n",
    "  )\n",
    "  return x\n"
   ]
  },
  {
   "cell_type": "code",
   "execution_count": 33,
   "metadata": {},
   "outputs": [],
   "source": [
    "def DenseBasic(input_size, output_size, output_activation='sigmoid'):\n",
    "  activation = ReLU()\n",
    "  layer0 = 1024\n",
    "  layers = [\n",
    "    custom_dense(layer0, activation),\n",
    "    Dropout(0.5),\n",
    "    custom_dense(layer0//2, activation),\n",
    "    Dropout(0.5),\n",
    "    custom_dense(layer0//4, activation),\n",
    "    custom_dense(layer0//8, activation),\n",
    "  ]\n",
    "\n",
    "  inputs = Input(shape=input_size)\n",
    "  x = Flatten()(inputs)\n",
    "\n",
    "  for layer in layers:\n",
    "    x = layer(x)\n",
    "\n",
    "  output = custom_dense(output_size, activation=output_activation)(x)\n",
    "\n",
    "  return keras.Model(inputs=inputs, outputs=output, name='Dense_basic')\n",
    "\n",
    "def DenseResid(input_size, output_size, output_activation='sigmoid'):\n",
    "  activation = ReLU()\n",
    "  layer0 = 1024\n",
    "  layers = [\n",
    "            custom_dense(layer0, activation),\n",
    "            Dropout(0.5),\n",
    "            custom_dense(layer0//2, activation),\n",
    "            Dropout(0.5),\n",
    "            custom_dense(layer0//4, activation),\n",
    "            custom_dense(layer0//8, activation),\n",
    "  ]\n",
    "\n",
    "  inputs = Input(shape=input_size)\n",
    "  x = Flatten()(inputs)\n",
    "\n",
    "  x = layers[0](x)\n",
    "  tmp = x\n",
    "  for i in range(1, len(layers)):\n",
    "    x = layers[i](x)\n",
    "    tmp = tf.keras.layers.Concatenate(axis=1)([tmp, x])\n",
    "  x = tmp\n",
    "\n",
    "  output = custom_dense(output_size, activation=output_activation)(x)\n",
    "\n",
    "  return keras.Model(inputs=inputs, outputs=output, name='Dense_resid')\n",
    "\n",
    "def RecurrentLSTM(input_size, output_size, output_activation='sigmoid'):\n",
    "  layers = [\n",
    "            custom_lstm(8, return_sequences=True),\n",
    "            Dropout(0.5),\n",
    "            custom_lstm(8, return_sequences=False),\n",
    "            Dropout(0.3),\n",
    "            custom_dense(4, activation='relu'),\n",
    "  ]\n",
    "\n",
    "  inputs = Input(shape=input_size)\n",
    "  x = inputs\n",
    "\n",
    "  for layer in layers:\n",
    "    x = layer(x)\n",
    "\n",
    "  output = custom_dense(output_size, activation=output_activation)(x)\n",
    "\n",
    "  return keras.Model(inputs=inputs, outputs=output, name='LSTM_basic')\n",
    "\n",
    "def RecurrentGRU(input_size, output_size, output_activation='sigmoid'):\n",
    "  layers = [\n",
    "            custom_gru(8, return_sequences=True),\n",
    "            custom_gru(8, return_sequences=False),\n",
    "  ]\n",
    "\n",
    "  inputs = Input(shape=input_size)\n",
    "  x = inputs\n",
    "\n",
    "  for layer in layers:\n",
    "    x = layer(x)\n",
    "\n",
    "  output = custom_dense(output_size, activation=output_activation)(x)\n",
    "\n",
    "  return keras.Model(inputs=inputs, outputs=output, name='GRU_basic')\n"
   ]
  },
  {
   "cell_type": "markdown",
   "metadata": {},
   "source": [
    "#### 3.1.3 Training"
   ]
  },
  {
   "cell_type": "markdown",
   "metadata": {},
   "source": [
    "Here I have tried my different NN models but any of them showed good results (>51% accuracy). Neither regression or classification aproach."
   ]
  },
  {
   "cell_type": "code",
   "execution_count": 128,
   "metadata": {},
   "outputs": [
    {
     "name": "stdout",
     "output_type": "stream",
     "text": [
      "TRAIN: (1719,) VAL: (214,)\n",
      "Fit: True\n",
      "Epoch 1/100\n",
      "WARNING: AutoGraph could not transform <function Model.make_train_function.<locals>.train_function at 0x000002B349EF03A8> and will run it as-is.\n",
      "Please report this to the TensorFlow team. When filing the bug, set the verbosity to 10 (on Linux, `export AUTOGRAPH_VERBOSITY=10`) and attach the full output.\n",
      "Cause: 'arguments' object has no attribute 'posonlyargs'\n",
      "To silence this warning, decorate the function with @tf.autograph.experimental.do_not_convert\n",
      "26/27 [===========================>..] - ETA: 0s - loss: 199.9994 - mape: 99.9999WARNING: AutoGraph could not transform <function Model.make_test_function.<locals>.test_function at 0x000002B619114288> and will run it as-is.\n",
      "Please report this to the TensorFlow team. When filing the bug, set the verbosity to 10 (on Linux, `export AUTOGRAPH_VERBOSITY=10`) and attach the full output.\n",
      "Cause: 'arguments' object has no attribute 'posonlyargs'\n",
      "To silence this warning, decorate the function with @tf.autograph.experimental.do_not_convert\n",
      "27/27 [==============================] - 4s 68ms/step - loss: 199.9994 - mape: 99.9999 - val_loss: 199.9988 - val_mape: 99.9997\n",
      "Epoch 2/100\n",
      "27/27 [==============================] - 1s 39ms/step - loss: 199.9978 - mape: 99.9995 - val_loss: 199.9971 - val_mape: 99.9993\n",
      "Epoch 3/100\n",
      "27/27 [==============================] - 1s 38ms/step - loss: 199.9937 - mape: 99.9984 - val_loss: 199.9938 - val_mape: 99.9985\n",
      "Epoch 4/100\n",
      "27/27 [==============================] - 1s 37ms/step - loss: 199.8831 - mape: 99.9707 - val_loss: 199.9817 - val_mape: 99.9954\n",
      "Epoch 5/100\n",
      "27/27 [==============================] - 1s 36ms/step - loss: 198.2680 - mape: 99.5545 - val_loss: 199.8581 - val_mape: 99.9645\n",
      "Epoch 6/100\n",
      "27/27 [==============================] - 1s 41ms/step - loss: 187.0859 - mape: 96.2220 - val_loss: 198.5667 - val_mape: 99.6402\n",
      "Epoch 7/100\n",
      "27/27 [==============================] - 1s 38ms/step - loss: 152.3689 - mape: 83.6421 - val_loss: 192.0097 - val_mape: 97.9552\n",
      "Epoch 8/100\n",
      "27/27 [==============================] - 1s 37ms/step - loss: 122.8454 - mape: 82.4212 - val_loss: 176.7995 - val_mape: 93.8023\n",
      "Epoch 9/100\n",
      "27/27 [==============================] - 1s 39ms/step - loss: 104.0066 - mape: 88.1510 - val_loss: 146.2330 - val_mape: 84.2391\n",
      "Epoch 10/100\n",
      "27/27 [==============================] - 1s 37ms/step - loss: 77.5779 - mape: 82.1607 - val_loss: 95.7326 - val_mape: 63.4732\n",
      "Epoch 11/100\n",
      "27/27 [==============================] - 1s 34ms/step - loss: 57.7002 - mape: 73.0208 - val_loss: 64.3149 - val_mape: 46.1982\n",
      "Epoch 12/100\n",
      "27/27 [==============================] - 1s 36ms/step - loss: 49.6979 - mape: 58.0975 - val_loss: 55.9469 - val_mape: 41.2828\n",
      "Epoch 13/100\n",
      "27/27 [==============================] - 1s 37ms/step - loss: 47.3903 - mape: 54.1223 - val_loss: 49.5171 - val_mape: 37.5131\n",
      "Epoch 14/100\n",
      "27/27 [==============================] - 1s 34ms/step - loss: 44.2292 - mape: 49.4581 - val_loss: 43.6026 - val_mape: 33.9822\n",
      "Epoch 15/100\n",
      "27/27 [==============================] - 1s 35ms/step - loss: 41.7760 - mape: 47.8533 - val_loss: 36.4127 - val_mape: 29.3721\n",
      "Epoch 16/100\n",
      "27/27 [==============================] - 1s 37ms/step - loss: 40.8282 - mape: 46.0428 - val_loss: 29.1867 - val_mape: 24.4525\n",
      "Epoch 17/100\n",
      "27/27 [==============================] - 1s 39ms/step - loss: 38.2203 - mape: 42.2735 - val_loss: 28.6809 - val_mape: 24.1089\n",
      "Epoch 18/100\n",
      "27/27 [==============================] - 1s 35ms/step - loss: 37.0161 - mape: 40.6862 - val_loss: 24.3434 - val_mape: 20.9486\n",
      "Epoch 19/100\n",
      "27/27 [==============================] - 1s 36ms/step - loss: 34.3226 - mape: 37.1656 - val_loss: 21.3072 - val_mape: 18.6620\n",
      "Epoch 20/100\n",
      "27/27 [==============================] - 1s 37ms/step - loss: 31.6907 - mape: 33.8039 - val_loss: 16.2087 - val_mape: 14.6321\n",
      "Epoch 21/100\n",
      "27/27 [==============================] - 1s 36ms/step - loss: 30.4582 - mape: 31.3889 - val_loss: 13.9905 - val_mape: 12.7993\n",
      "Epoch 22/100\n",
      "27/27 [==============================] - 1s 36ms/step - loss: 29.7757 - mape: 30.3284 - val_loss: 15.0992 - val_mape: 13.7719\n",
      "Epoch 23/100\n",
      "27/27 [==============================] - 1s 39ms/step - loss: 29.0472 - mape: 29.7289 - val_loss: 11.1650 - val_mape: 10.3940\n",
      "Epoch 24/100\n",
      "27/27 [==============================] - 1s 40ms/step - loss: 26.7723 - mape: 26.9856 - val_loss: 7.8041 - val_mape: 7.4297\n",
      "Epoch 25/100\n",
      "27/27 [==============================] - 1s 36ms/step - loss: 27.2077 - mape: 27.2789 - val_loss: 5.7951 - val_mape: 5.6159\n",
      "Epoch 26/100\n",
      "27/27 [==============================] - 1s 34ms/step - loss: 26.2813 - mape: 26.1645 - val_loss: 4.4274 - val_mape: 4.3564\n",
      "Epoch 27/100\n",
      "27/27 [==============================] - 1s 33ms/step - loss: 26.4208 - mape: 26.3597 - val_loss: 4.2296 - val_mape: 4.1227\n",
      "Epoch 28/100\n",
      "27/27 [==============================] - 1s 38ms/step - loss: 26.0636 - mape: 24.7625 - val_loss: 3.1659 - val_mape: 3.1151\n",
      "Epoch 29/100\n",
      "27/27 [==============================] - 1s 33ms/step - loss: 26.3287 - mape: 25.5494 - val_loss: 4.1679 - val_mape: 4.0669\n",
      "Epoch 30/100\n",
      "27/27 [==============================] - 1s 35ms/step - loss: 25.4843 - mape: 24.8891 - val_loss: 2.0735 - val_mape: 2.0854\n",
      "Epoch 31/100\n",
      "27/27 [==============================] - 1s 35ms/step - loss: 24.9929 - mape: 24.2552 - val_loss: 3.8125 - val_mape: 3.7276\n",
      "Epoch 32/100\n",
      "27/27 [==============================] - 1s 35ms/step - loss: 26.5110 - mape: 25.9353 - val_loss: 3.6954 - val_mape: 3.7954\n",
      "Epoch 33/100\n",
      "27/27 [==============================] - 1s 35ms/step - loss: 25.0522 - mape: 24.2841 - val_loss: 1.9830 - val_mape: 1.9944\n",
      "Epoch 34/100\n",
      "27/27 [==============================] - 1s 35ms/step - loss: 25.1880 - mape: 25.1521 - val_loss: 3.0188 - val_mape: 3.0906\n",
      "Epoch 35/100\n",
      "27/27 [==============================] - 1s 37ms/step - loss: 25.4171 - mape: 24.6225 - val_loss: 1.9811 - val_mape: 1.9933\n",
      "Epoch 36/100\n",
      "27/27 [==============================] - 1s 38ms/step - loss: 25.0295 - mape: 24.1748 - val_loss: 3.1269 - val_mape: 3.1978\n",
      "Epoch 37/100\n",
      "27/27 [==============================] - 1s 40ms/step - loss: 25.1125 - mape: 24.3439 - val_loss: 3.1081 - val_mape: 3.1814\n",
      "Epoch 38/100\n",
      "27/27 [==============================] - 1s 37ms/step - loss: 25.1490 - mape: 24.7111 - val_loss: 5.6636 - val_mape: 5.8632\n",
      "Epoch 39/100\n",
      "27/27 [==============================] - 1s 38ms/step - loss: 24.9731 - mape: 24.4833 - val_loss: 6.0109 - val_mape: 6.2329\n",
      "Epoch 40/100\n",
      "27/27 [==============================] - 1s 36ms/step - loss: 26.0804 - mape: 24.9336 - val_loss: 2.4026 - val_mape: 2.4454\n",
      "Epoch 41/100\n",
      "27/27 [==============================] - 1s 36ms/step - loss: 25.1530 - mape: 24.7788 - val_loss: 2.7719 - val_mape: 2.7287\n",
      "Epoch 42/100\n",
      "27/27 [==============================] - 1s 37ms/step - loss: 24.2874 - mape: 23.5717 - val_loss: 3.6921 - val_mape: 3.7886\n",
      "Epoch 43/100\n",
      "27/27 [==============================] - 1s 39ms/step - loss: 25.0051 - mape: 24.4244 - val_loss: 1.8653 - val_mape: 1.8762\n",
      "Epoch 44/100\n",
      "27/27 [==============================] - 1s 37ms/step - loss: 26.1223 - mape: 25.2308 - val_loss: 6.6944 - val_mape: 6.9633\n",
      "Epoch 45/100\n",
      "27/27 [==============================] - 1s 35ms/step - loss: 24.9654 - mape: 24.6868 - val_loss: 2.7944 - val_mape: 2.8481\n",
      "Epoch 46/100\n",
      "27/27 [==============================] - 1s 36ms/step - loss: 25.1142 - mape: 24.4558 - val_loss: 4.0530 - val_mape: 4.1629\n",
      "Epoch 47/100\n",
      "27/27 [==============================] - 1s 37ms/step - loss: 24.5348 - mape: 23.8736 - val_loss: 2.4032 - val_mape: 2.4407\n",
      "Epoch 48/100\n",
      "27/27 [==============================] - 1s 37ms/step - loss: 25.0046 - mape: 24.1495 - val_loss: 3.8724 - val_mape: 3.9787\n",
      "Epoch 49/100\n",
      "27/27 [==============================] - 1s 35ms/step - loss: 25.7932 - mape: 25.4426 - val_loss: 3.4566 - val_mape: 3.5416\n",
      "Epoch 50/100\n",
      "27/27 [==============================] - 1s 37ms/step - loss: 24.9256 - mape: 24.2112 - val_loss: 2.2820 - val_mape: 2.3140\n",
      "Epoch 51/100\n",
      "27/27 [==============================] - 1s 35ms/step - loss: 25.7684 - mape: 24.9771 - val_loss: 2.3356 - val_mape: 2.3777\n",
      "Epoch 52/100\n",
      "27/27 [==============================] - 1s 37ms/step - loss: 24.3857 - mape: 23.5694 - val_loss: 3.2315 - val_mape: 3.3060\n",
      "Epoch 53/100\n",
      "27/27 [==============================] - 1s 36ms/step - loss: 24.5151 - mape: 23.8729 - val_loss: 2.9068 - val_mape: 2.9727\n",
      "Epoch 54/100\n",
      "27/27 [==============================] - 1s 36ms/step - loss: 25.1816 - mape: 24.5075 - val_loss: 2.6291 - val_mape: 2.6841\n",
      "Epoch 55/100\n",
      "27/27 [==============================] - 1s 37ms/step - loss: 25.3649 - mape: 24.5081 - val_loss: 4.0994 - val_mape: 4.2144\n",
      "Epoch 56/100\n",
      "27/27 [==============================] - 1s 36ms/step - loss: 23.6574 - mape: 23.2212 - val_loss: 2.2148 - val_mape: 2.2470\n",
      "Epoch 57/100\n",
      "27/27 [==============================] - 1s 36ms/step - loss: 24.2012 - mape: 23.0952 - val_loss: 1.7215 - val_mape: 1.7284\n",
      "Epoch 58/100\n",
      "27/27 [==============================] - 1s 35ms/step - loss: 25.9292 - mape: 24.7810 - val_loss: 3.2509 - val_mape: 3.3327\n",
      "Epoch 59/100\n",
      "27/27 [==============================] - 1s 36ms/step - loss: 25.3278 - mape: 24.7525 - val_loss: 1.9081 - val_mape: 1.9292\n",
      "Epoch 60/100\n",
      "27/27 [==============================] - 1s 39ms/step - loss: 25.0976 - mape: 24.5304 - val_loss: 1.8699 - val_mape: 1.8869\n",
      "Epoch 61/100\n",
      "27/27 [==============================] - 1s 37ms/step - loss: 25.5846 - mape: 25.0405 - val_loss: 1.9174 - val_mape: 1.9354\n",
      "Epoch 62/100\n",
      "27/27 [==============================] - 1s 38ms/step - loss: 24.0988 - mape: 23.1887 - val_loss: 2.0272 - val_mape: 2.0556\n",
      "Epoch 63/100\n",
      "27/27 [==============================] - 1s 38ms/step - loss: 25.3694 - mape: 24.9735 - val_loss: 3.3304 - val_mape: 3.2648\n",
      "Epoch 64/100\n",
      "27/27 [==============================] - 1s 38ms/step - loss: 23.6241 - mape: 22.9566 - val_loss: 3.0213 - val_mape: 3.0944\n",
      "Epoch 65/100\n",
      "27/27 [==============================] - 1s 38ms/step - loss: 24.0487 - mape: 23.4108 - val_loss: 2.3535 - val_mape: 2.3992\n",
      "Epoch 66/100\n",
      "27/27 [==============================] - 1s 37ms/step - loss: 24.7193 - mape: 24.1909 - val_loss: 3.6894 - val_mape: 3.7868\n",
      "Epoch 67/100\n",
      "27/27 [==============================] - 1s 36ms/step - loss: 23.9471 - mape: 23.1903 - val_loss: 1.7993 - val_mape: 1.8066\n",
      "Epoch 68/100\n",
      "27/27 [==============================] - 1s 36ms/step - loss: 25.6017 - mape: 24.6137 - val_loss: 3.1442 - val_mape: 3.2177\n",
      "Epoch 69/100\n",
      "27/27 [==============================] - 1s 36ms/step - loss: 24.2011 - mape: 23.5343 - val_loss: 4.6777 - val_mape: 4.8222\n",
      "Epoch 70/100\n",
      "27/27 [==============================] - 1s 35ms/step - loss: 25.0738 - mape: 24.1143 - val_loss: 2.3024 - val_mape: 2.3415\n",
      "Epoch 71/100\n",
      "27/27 [==============================] - 1s 35ms/step - loss: 24.7956 - mape: 24.2235 - val_loss: 1.9107 - val_mape: 1.9180\n",
      "Epoch 72/100\n",
      "27/27 [==============================] - 1s 38ms/step - loss: 24.0918 - mape: 23.3623 - val_loss: 2.0377 - val_mape: 2.0379\n",
      "Epoch 73/100\n",
      "27/27 [==============================] - 1s 37ms/step - loss: 24.1084 - mape: 23.1980 - val_loss: 1.9998 - val_mape: 1.9997\n",
      "Epoch 74/100\n",
      "27/27 [==============================] - 1s 38ms/step - loss: 23.7218 - mape: 22.6631 - val_loss: 2.5667 - val_mape: 2.6111\n",
      "Epoch 75/100\n",
      "27/27 [==============================] - 1s 38ms/step - loss: 24.6681 - mape: 23.9341 - val_loss: 2.2663 - val_mape: 2.3032\n",
      "Epoch 76/100\n",
      "27/27 [==============================] - 1s 41ms/step - loss: 23.5064 - mape: 23.0081 - val_loss: 2.6442 - val_mape: 2.6965\n",
      "Epoch 77/100\n",
      "27/27 [==============================] - 1s 39ms/step - loss: 23.6962 - mape: 23.0789 - val_loss: 2.1782 - val_mape: 2.2026\n",
      "Epoch 78/100\n",
      "27/27 [==============================] - 1s 37ms/step - loss: 24.6651 - mape: 23.6178 - val_loss: 2.0407 - val_mape: 2.0329\n",
      "Epoch 79/100\n",
      "27/27 [==============================] - 1s 37ms/step - loss: 24.5781 - mape: 23.7962 - val_loss: 2.2884 - val_mape: 2.3108\n",
      "Epoch 80/100\n",
      "27/27 [==============================] - 1s 37ms/step - loss: 24.3624 - mape: 23.4103 - val_loss: 2.3080 - val_mape: 2.3439\n",
      "Epoch 81/100\n",
      "27/27 [==============================] - 1s 37ms/step - loss: 23.5389 - mape: 23.0488 - val_loss: 2.0245 - val_mape: 2.0488\n",
      "Epoch 82/100\n",
      "27/27 [==============================] - 1s 37ms/step - loss: 24.2245 - mape: 23.4201 - val_loss: 2.1650 - val_mape: 2.1582\n",
      "Epoch 83/100\n",
      "27/27 [==============================] - 1s 36ms/step - loss: 24.4307 - mape: 23.4295 - val_loss: 1.9450 - val_mape: 1.9396\n",
      "Epoch 84/100\n",
      "27/27 [==============================] - 1s 36ms/step - loss: 24.0268 - mape: 23.0178 - val_loss: 4.9381 - val_mape: 5.0965\n",
      "Epoch 85/100\n",
      "27/27 [==============================] - 1s 37ms/step - loss: 23.9232 - mape: 23.4357 - val_loss: 2.0506 - val_mape: 2.0415\n",
      "Epoch 86/100\n",
      "27/27 [==============================] - 1s 38ms/step - loss: 24.5201 - mape: 23.6627 - val_loss: 2.6273 - val_mape: 2.6832\n",
      "Epoch 87/100\n",
      "27/27 [==============================] - 1s 37ms/step - loss: 24.7778 - mape: 23.7300 - val_loss: 1.7940 - val_mape: 1.8158\n",
      "Epoch 88/100\n",
      "27/27 [==============================] - 1s 37ms/step - loss: 24.2301 - mape: 23.2707 - val_loss: 2.0112 - val_mape: 2.0112\n",
      "Epoch 89/100\n",
      "27/27 [==============================] - 1s 39ms/step - loss: 23.5433 - mape: 22.6946 - val_loss: 2.2568 - val_mape: 2.2334\n",
      "Epoch 90/100\n",
      "27/27 [==============================] - 1s 35ms/step - loss: 24.1283 - mape: 23.4086 - val_loss: 2.7409 - val_mape: 2.6992\n",
      "Epoch 91/100\n",
      "27/27 [==============================] - 1s 35ms/step - loss: 24.6812 - mape: 23.4999 - val_loss: 2.8956 - val_mape: 2.9626\n",
      "Epoch 92/100\n",
      "27/27 [==============================] - 1s 38ms/step - loss: 24.2006 - mape: 23.2968 - val_loss: 3.3384 - val_mape: 3.2734\n",
      "Epoch 93/100\n",
      "27/27 [==============================] - 1s 39ms/step - loss: 24.0426 - mape: 23.1923 - val_loss: 2.0715 - val_mape: 2.0995\n",
      "Epoch 94/100\n",
      "27/27 [==============================] - 1s 36ms/step - loss: 24.4553 - mape: 23.3554 - val_loss: 2.4743 - val_mape: 2.4442\n",
      "Epoch 95/100\n",
      "27/27 [==============================] - 1s 37ms/step - loss: 24.2799 - mape: 23.5792 - val_loss: 2.2040 - val_mape: 2.2368\n",
      "Epoch 96/100\n",
      "27/27 [==============================] - 1s 39ms/step - loss: 23.7787 - mape: 22.8635 - val_loss: 2.3012 - val_mape: 2.3395\n",
      "Epoch 97/100\n",
      "27/27 [==============================] - 1s 37ms/step - loss: 23.1410 - mape: 22.1531 - val_loss: 2.2481 - val_mape: 2.2288\n",
      "Epoch 98/100\n",
      "27/27 [==============================] - 1s 39ms/step - loss: 23.7907 - mape: 22.9697 - val_loss: 2.0339 - val_mape: 2.0497\n",
      "Epoch 99/100\n",
      "27/27 [==============================] - 1s 36ms/step - loss: 24.0630 - mape: 22.7666 - val_loss: 2.3888 - val_mape: 2.4364\n",
      "Epoch 100/100\n",
      "27/27 [==============================] - 1s 35ms/step - loss: 24.6394 - mape: 23.9289 - val_loss: 3.6670 - val_mape: 3.5881\n",
      "4/4 [==============================] - 0s 8ms/step - loss: 3.6670 - mape: 3.5881\n",
      "WARNING: AutoGraph could not transform <function Model.make_predict_function.<locals>.predict_function at 0x000002B349C183A8> and will run it as-is.\n",
      "Please report this to the TensorFlow team. When filing the bug, set the verbosity to 10 (on Linux, `export AUTOGRAPH_VERBOSITY=10`) and attach the full output.\n",
      "Cause: 'arguments' object has no attribute 'posonlyargs'\n",
      "To silence this warning, decorate the function with @tf.autograph.experimental.do_not_convert\n",
      "ACCURACY:  0.4924154025670945 0.4880382775119617\n",
      "TRAIN: (1933,) VAL: (214,)\n",
      "Fit: True\n",
      "Epoch 1/100\n",
      "WARNING: AutoGraph could not transform <function Model.make_train_function.<locals>.train_function at 0x000002B626063798> and will run it as-is.\n",
      "Please report this to the TensorFlow team. When filing the bug, set the verbosity to 10 (on Linux, `export AUTOGRAPH_VERBOSITY=10`) and attach the full output.\n",
      "Cause: 'arguments' object has no attribute 'posonlyargs'\n",
      "To silence this warning, decorate the function with @tf.autograph.experimental.do_not_convert\n",
      "31/31 [==============================] - ETA: 0s - loss: 200.0000 - mape: 100.0000WARNING: AutoGraph could not transform <function Model.make_test_function.<locals>.test_function at 0x000002B348FCAE58> and will run it as-is.\n",
      "Please report this to the TensorFlow team. When filing the bug, set the verbosity to 10 (on Linux, `export AUTOGRAPH_VERBOSITY=10`) and attach the full output.\n",
      "Cause: 'arguments' object has no attribute 'posonlyargs'\n",
      "To silence this warning, decorate the function with @tf.autograph.experimental.do_not_convert\n",
      "31/31 [==============================] - 4s 52ms/step - loss: 200.0000 - mape: 100.0000 - val_loss: 200.0000 - val_mape: 100.0000\n",
      "Epoch 2/100\n",
      "31/31 [==============================] - 1s 37ms/step - loss: 200.0000 - mape: 100.0000 - val_loss: 200.0000 - val_mape: 100.0000\n",
      "Epoch 3/100\n",
      "31/31 [==============================] - 1s 37ms/step - loss: 200.0000 - mape: 100.0000 - val_loss: 200.0000 - val_mape: 100.0000\n",
      "Epoch 4/100\n",
      "31/31 [==============================] - 1s 38ms/step - loss: 200.0000 - mape: 100.0000 - val_loss: 200.0000 - val_mape: 100.0000\n",
      "Epoch 5/100\n",
      "31/31 [==============================] - 1s 36ms/step - loss: 200.0000 - mape: 100.0000 - val_loss: 200.0000 - val_mape: 100.0000\n",
      "Epoch 6/100\n",
      "31/31 [==============================] - 1s 38ms/step - loss: 200.0000 - mape: 100.0000 - val_loss: 200.0000 - val_mape: 100.0000\n",
      "Epoch 7/100\n",
      "31/31 [==============================] - 1s 38ms/step - loss: 200.0000 - mape: 100.0000 - val_loss: 200.0000 - val_mape: 100.0000\n",
      "Epoch 8/100\n",
      "31/31 [==============================] - 1s 36ms/step - loss: 200.0000 - mape: 100.0000 - val_loss: 200.0000 - val_mape: 100.0000\n",
      "Epoch 9/100\n",
      "31/31 [==============================] - 1s 36ms/step - loss: 200.0000 - mape: 100.0000 - val_loss: 200.0000 - val_mape: 100.0000\n",
      "Epoch 10/100\n",
      "31/31 [==============================] - 1s 37ms/step - loss: 200.0000 - mape: 100.0000 - val_loss: 200.0000 - val_mape: 100.0000\n",
      "Epoch 11/100\n",
      "31/31 [==============================] - 1s 37ms/step - loss: 200.0000 - mape: 100.0000 - val_loss: 200.0000 - val_mape: 100.0000\n",
      "Epoch 12/100\n",
      "31/31 [==============================] - 1s 38ms/step - loss: 200.0000 - mape: 100.0000 - val_loss: 200.0000 - val_mape: 100.0000\n",
      "Epoch 13/100\n",
      "31/31 [==============================] - 1s 35ms/step - loss: 200.0000 - mape: 100.0000 - val_loss: 200.0000 - val_mape: 100.0000\n",
      "Epoch 14/100\n",
      "31/31 [==============================] - 1s 34ms/step - loss: 200.0000 - mape: 100.0000 - val_loss: 200.0000 - val_mape: 100.0000\n",
      "Epoch 15/100\n",
      "31/31 [==============================] - 1s 36ms/step - loss: 200.0000 - mape: 100.0000 - val_loss: 200.0000 - val_mape: 100.0000\n",
      "Epoch 16/100\n",
      "31/31 [==============================] - 1s 37ms/step - loss: 200.0000 - mape: 100.0000 - val_loss: 200.0000 - val_mape: 100.0000\n",
      "Epoch 17/100\n",
      "31/31 [==============================] - 1s 39ms/step - loss: 200.0000 - mape: 100.0000 - val_loss: 200.0000 - val_mape: 100.0000\n",
      "Epoch 18/100\n",
      "31/31 [==============================] - 1s 39ms/step - loss: 200.0000 - mape: 100.0000 - val_loss: 200.0000 - val_mape: 100.0000\n",
      "Epoch 19/100\n",
      "31/31 [==============================] - 1s 39ms/step - loss: 200.0000 - mape: 100.0000 - val_loss: 200.0000 - val_mape: 100.0000\n",
      "Epoch 20/100\n",
      "31/31 [==============================] - 1s 36ms/step - loss: 200.0000 - mape: 100.0000 - val_loss: 200.0000 - val_mape: 100.0000\n",
      "Epoch 21/100\n",
      "31/31 [==============================] - 1s 35ms/step - loss: 200.0000 - mape: 100.0000 - val_loss: 200.0000 - val_mape: 100.0000\n",
      "Epoch 22/100\n",
      "31/31 [==============================] - 1s 36ms/step - loss: 200.0000 - mape: 100.0000 - val_loss: 200.0000 - val_mape: 100.0000\n",
      "Epoch 23/100\n",
      "31/31 [==============================] - 1s 37ms/step - loss: 200.0000 - mape: 100.0000 - val_loss: 200.0000 - val_mape: 100.0000\n",
      "Epoch 24/100\n",
      "31/31 [==============================] - 1s 38ms/step - loss: 200.0000 - mape: 100.0000 - val_loss: 200.0000 - val_mape: 100.0000\n",
      "Epoch 25/100\n",
      "31/31 [==============================] - 1s 36ms/step - loss: 200.0000 - mape: 100.0000 - val_loss: 200.0000 - val_mape: 100.0000\n",
      "Epoch 26/100\n",
      "31/31 [==============================] - 1s 36ms/step - loss: 200.0000 - mape: 100.0000 - val_loss: 200.0000 - val_mape: 100.0000\n",
      "Epoch 27/100\n",
      "31/31 [==============================] - 1s 38ms/step - loss: 200.0000 - mape: 100.0000 - val_loss: 200.0000 - val_mape: 100.0000\n",
      "Epoch 28/100\n",
      "31/31 [==============================] - 1s 38ms/step - loss: 200.0000 - mape: 100.0000 - val_loss: 200.0000 - val_mape: 100.0000\n",
      "Epoch 29/100\n",
      "31/31 [==============================] - 1s 38ms/step - loss: 200.0000 - mape: 100.0000 - val_loss: 200.0000 - val_mape: 100.0000\n",
      "Epoch 30/100\n",
      "31/31 [==============================] - 1s 36ms/step - loss: 200.0000 - mape: 100.0000 - val_loss: 200.0000 - val_mape: 100.0000\n",
      "Epoch 31/100\n",
      "31/31 [==============================] - 1s 38ms/step - loss: 200.0000 - mape: 100.0000 - val_loss: 200.0000 - val_mape: 100.0000\n",
      "Epoch 32/100\n",
      "31/31 [==============================] - 1s 38ms/step - loss: 200.0000 - mape: 100.0000 - val_loss: 200.0000 - val_mape: 100.0000\n",
      "Epoch 33/100\n",
      "31/31 [==============================] - 1s 36ms/step - loss: 200.0000 - mape: 100.0000 - val_loss: 200.0000 - val_mape: 100.0000\n",
      "Epoch 34/100\n",
      "31/31 [==============================] - 1s 37ms/step - loss: 200.0000 - mape: 100.0000 - val_loss: 200.0000 - val_mape: 100.0000\n",
      "Epoch 35/100\n",
      "31/31 [==============================] - 1s 37ms/step - loss: 200.0000 - mape: 100.0000 - val_loss: 200.0000 - val_mape: 100.0000\n",
      "Epoch 36/100\n",
      "31/31 [==============================] - 1s 38ms/step - loss: 200.0000 - mape: 100.0000 - val_loss: 200.0000 - val_mape: 100.0000\n",
      "Epoch 37/100\n",
      "31/31 [==============================] - 1s 37ms/step - loss: 200.0000 - mape: 100.0000 - val_loss: 200.0000 - val_mape: 100.0000\n",
      "Epoch 38/100\n",
      "31/31 [==============================] - 1s 37ms/step - loss: 200.0000 - mape: 100.0000 - val_loss: 200.0000 - val_mape: 100.0000\n",
      "Epoch 39/100\n",
      "31/31 [==============================] - 1s 37ms/step - loss: 200.0000 - mape: 100.0000 - val_loss: 200.0000 - val_mape: 100.0000\n",
      "Epoch 40/100\n",
      "31/31 [==============================] - 1s 39ms/step - loss: 200.0000 - mape: 100.0000 - val_loss: 200.0000 - val_mape: 100.0000\n",
      "Epoch 41/100\n",
      "31/31 [==============================] - 1s 36ms/step - loss: 200.0000 - mape: 100.0000 - val_loss: 200.0000 - val_mape: 100.0000\n",
      "Epoch 42/100\n",
      "31/31 [==============================] - 1s 41ms/step - loss: 200.0000 - mape: 100.0000 - val_loss: 200.0000 - val_mape: 100.0000\n",
      "Epoch 43/100\n",
      "31/31 [==============================] - 1s 37ms/step - loss: 200.0000 - mape: 100.0000 - val_loss: 200.0000 - val_mape: 100.0000\n",
      "Epoch 44/100\n",
      "31/31 [==============================] - 1s 36ms/step - loss: 200.0000 - mape: 100.0000 - val_loss: 200.0000 - val_mape: 100.0000\n",
      "Epoch 45/100\n",
      "31/31 [==============================] - 1s 36ms/step - loss: 200.0000 - mape: 100.0000 - val_loss: 200.0000 - val_mape: 100.0000\n",
      "Epoch 46/100\n",
      "31/31 [==============================] - 1s 35ms/step - loss: 200.0000 - mape: 100.0000 - val_loss: 200.0000 - val_mape: 100.0000\n",
      "Epoch 47/100\n",
      "31/31 [==============================] - 1s 37ms/step - loss: 200.0000 - mape: 100.0000 - val_loss: 200.0000 - val_mape: 100.0000\n",
      "Epoch 48/100\n",
      "31/31 [==============================] - 1s 35ms/step - loss: 200.0000 - mape: 100.0000 - val_loss: 200.0000 - val_mape: 100.0000\n",
      "Epoch 49/100\n",
      "31/31 [==============================] - 1s 36ms/step - loss: 200.0000 - mape: 100.0000 - val_loss: 200.0000 - val_mape: 100.0000\n",
      "Epoch 50/100\n",
      "31/31 [==============================] - 1s 38ms/step - loss: 200.0000 - mape: 100.0000 - val_loss: 200.0000 - val_mape: 100.0000\n",
      "Epoch 51/100\n",
      "31/31 [==============================] - 1s 36ms/step - loss: 200.0000 - mape: 100.0000 - val_loss: 200.0000 - val_mape: 100.0000\n",
      "Epoch 52/100\n",
      "31/31 [==============================] - 1s 38ms/step - loss: 200.0000 - mape: 100.0000 - val_loss: 200.0000 - val_mape: 100.0000\n",
      "Epoch 53/100\n",
      "31/31 [==============================] - 1s 37ms/step - loss: 200.0000 - mape: 100.0000 - val_loss: 200.0000 - val_mape: 100.0000\n",
      "Epoch 54/100\n",
      "31/31 [==============================] - 1s 36ms/step - loss: 200.0000 - mape: 100.0000 - val_loss: 200.0000 - val_mape: 100.0000\n",
      "Epoch 55/100\n",
      "31/31 [==============================] - 1s 39ms/step - loss: 200.0000 - mape: 100.0000 - val_loss: 200.0000 - val_mape: 100.0000\n",
      "Epoch 56/100\n",
      "31/31 [==============================] - 1s 37ms/step - loss: 200.0000 - mape: 100.0000 - val_loss: 200.0000 - val_mape: 100.0000\n",
      "Epoch 57/100\n",
      "31/31 [==============================] - 1s 37ms/step - loss: 200.0000 - mape: 100.0000 - val_loss: 200.0000 - val_mape: 100.0000\n",
      "Epoch 58/100\n",
      "31/31 [==============================] - 1s 37ms/step - loss: 200.0000 - mape: 100.0000 - val_loss: 200.0000 - val_mape: 100.0000\n",
      "Epoch 59/100\n",
      "31/31 [==============================] - 1s 37ms/step - loss: 200.0000 - mape: 100.0000 - val_loss: 200.0000 - val_mape: 100.0000\n",
      "Epoch 60/100\n",
      "31/31 [==============================] - 1s 36ms/step - loss: 200.0000 - mape: 100.0000 - val_loss: 200.0000 - val_mape: 100.0000\n",
      "Epoch 61/100\n",
      "31/31 [==============================] - 1s 35ms/step - loss: 200.0000 - mape: 100.0000 - val_loss: 200.0000 - val_mape: 100.0000\n",
      "Epoch 62/100\n",
      "31/31 [==============================] - 1s 38ms/step - loss: 200.0000 - mape: 100.0000 - val_loss: 200.0000 - val_mape: 100.0000\n",
      "Epoch 63/100\n",
      "31/31 [==============================] - 1s 39ms/step - loss: 200.0000 - mape: 100.0000 - val_loss: 200.0000 - val_mape: 100.0000\n",
      "Epoch 64/100\n",
      "31/31 [==============================] - 1s 39ms/step - loss: 200.0000 - mape: 100.0000 - val_loss: 200.0000 - val_mape: 100.0000\n",
      "Epoch 65/100\n",
      "31/31 [==============================] - 1s 38ms/step - loss: 200.0000 - mape: 100.0000 - val_loss: 200.0000 - val_mape: 100.0000\n",
      "Epoch 66/100\n",
      "31/31 [==============================] - 1s 37ms/step - loss: 200.0000 - mape: 100.0000 - val_loss: 200.0000 - val_mape: 100.0000\n",
      "Epoch 67/100\n",
      "31/31 [==============================] - 1s 35ms/step - loss: 200.0000 - mape: 100.0000 - val_loss: 200.0000 - val_mape: 100.0000\n",
      "Epoch 68/100\n",
      "31/31 [==============================] - 1s 37ms/step - loss: 200.0000 - mape: 100.0000 - val_loss: 200.0000 - val_mape: 100.0000\n",
      "Epoch 69/100\n",
      "31/31 [==============================] - 1s 36ms/step - loss: 200.0000 - mape: 100.0000 - val_loss: 200.0000 - val_mape: 100.0000\n",
      "Epoch 70/100\n",
      "31/31 [==============================] - 1s 39ms/step - loss: 200.0000 - mape: 100.0000 - val_loss: 200.0000 - val_mape: 100.0000\n",
      "Epoch 71/100\n",
      "31/31 [==============================] - 1s 36ms/step - loss: 200.0000 - mape: 100.0000 - val_loss: 200.0000 - val_mape: 100.0000\n",
      "Epoch 72/100\n",
      "31/31 [==============================] - 1s 36ms/step - loss: 200.0000 - mape: 100.0000 - val_loss: 200.0000 - val_mape: 100.0000\n",
      "Epoch 73/100\n",
      "31/31 [==============================] - 1s 36ms/step - loss: 200.0000 - mape: 100.0000 - val_loss: 200.0000 - val_mape: 100.0000\n",
      "Epoch 74/100\n",
      "31/31 [==============================] - 1s 37ms/step - loss: 200.0000 - mape: 100.0000 - val_loss: 200.0000 - val_mape: 100.0000\n",
      "Epoch 75/100\n",
      "31/31 [==============================] - 1s 37ms/step - loss: 200.0000 - mape: 100.0000 - val_loss: 200.0000 - val_mape: 100.0000\n",
      "Epoch 76/100\n",
      "31/31 [==============================] - 1s 38ms/step - loss: 200.0000 - mape: 100.0000 - val_loss: 200.0000 - val_mape: 100.0000\n",
      "Epoch 77/100\n",
      "31/31 [==============================] - 1s 37ms/step - loss: 200.0000 - mape: 100.0000 - val_loss: 200.0000 - val_mape: 100.0000\n",
      "Epoch 78/100\n",
      "31/31 [==============================] - 1s 37ms/step - loss: 200.0000 - mape: 100.0000 - val_loss: 200.0000 - val_mape: 100.0000\n",
      "Epoch 79/100\n",
      "31/31 [==============================] - 1s 36ms/step - loss: 200.0000 - mape: 100.0000 - val_loss: 200.0000 - val_mape: 100.0000\n",
      "Epoch 80/100\n",
      "31/31 [==============================] - 1s 37ms/step - loss: 200.0000 - mape: 100.0000 - val_loss: 200.0000 - val_mape: 100.0000\n",
      "Epoch 81/100\n",
      "31/31 [==============================] - 1s 40ms/step - loss: 200.0000 - mape: 100.0000 - val_loss: 200.0000 - val_mape: 100.0000\n",
      "Epoch 82/100\n",
      "31/31 [==============================] - 1s 37ms/step - loss: 200.0000 - mape: 100.0000 - val_loss: 200.0000 - val_mape: 100.0000\n",
      "Epoch 83/100\n",
      "31/31 [==============================] - 1s 37ms/step - loss: 200.0000 - mape: 100.0000 - val_loss: 200.0000 - val_mape: 100.0000\n",
      "Epoch 84/100\n",
      "31/31 [==============================] - 1s 36ms/step - loss: 200.0000 - mape: 100.0000 - val_loss: 200.0000 - val_mape: 100.0000\n",
      "Epoch 85/100\n",
      "31/31 [==============================] - 1s 37ms/step - loss: 200.0000 - mape: 100.0000 - val_loss: 200.0000 - val_mape: 100.0000\n",
      "Epoch 86/100\n",
      "31/31 [==============================] - 1s 38ms/step - loss: 200.0000 - mape: 100.0000 - val_loss: 200.0000 - val_mape: 100.0000\n",
      "Epoch 87/100\n",
      "31/31 [==============================] - 1s 35ms/step - loss: 200.0000 - mape: 100.0000 - val_loss: 200.0000 - val_mape: 100.0000\n",
      "Epoch 88/100\n",
      "31/31 [==============================] - 1s 35ms/step - loss: 200.0000 - mape: 100.0000 - val_loss: 200.0000 - val_mape: 100.0000\n",
      "Epoch 89/100\n",
      "31/31 [==============================] - 1s 36ms/step - loss: 200.0000 - mape: 100.0000 - val_loss: 200.0000 - val_mape: 100.0000\n",
      "Epoch 90/100\n",
      "31/31 [==============================] - 1s 36ms/step - loss: 200.0000 - mape: 100.0000 - val_loss: 200.0000 - val_mape: 100.0000\n",
      "Epoch 91/100\n",
      "31/31 [==============================] - 1s 37ms/step - loss: 200.0000 - mape: 100.0000 - val_loss: 200.0000 - val_mape: 100.0000\n",
      "Epoch 92/100\n",
      "31/31 [==============================] - 1s 37ms/step - loss: 200.0000 - mape: 100.0000 - val_loss: 200.0000 - val_mape: 100.0000\n",
      "Epoch 93/100\n",
      "31/31 [==============================] - 1s 35ms/step - loss: 200.0000 - mape: 100.0000 - val_loss: 200.0000 - val_mape: 100.0000\n",
      "Epoch 94/100\n",
      "31/31 [==============================] - 1s 35ms/step - loss: 200.0000 - mape: 100.0000 - val_loss: 200.0000 - val_mape: 100.0000\n",
      "Epoch 95/100\n",
      "31/31 [==============================] - 1s 37ms/step - loss: 200.0000 - mape: 100.0000 - val_loss: 200.0000 - val_mape: 100.0000\n",
      "Epoch 96/100\n",
      "31/31 [==============================] - 1s 36ms/step - loss: 200.0000 - mape: 100.0000 - val_loss: 200.0000 - val_mape: 100.0000\n",
      "Epoch 97/100\n",
      "31/31 [==============================] - 1s 38ms/step - loss: 200.0000 - mape: 100.0000 - val_loss: 200.0000 - val_mape: 100.0000\n",
      "Epoch 98/100\n",
      "31/31 [==============================] - 1s 35ms/step - loss: 200.0000 - mape: 100.0000 - val_loss: 200.0000 - val_mape: 100.0000\n",
      "Epoch 99/100\n",
      "31/31 [==============================] - 1s 36ms/step - loss: 200.0000 - mape: 100.0000 - val_loss: 200.0000 - val_mape: 100.0000\n",
      "Epoch 100/100\n",
      "31/31 [==============================] - 1s 35ms/step - loss: 200.0000 - mape: 100.0000 - val_loss: 200.0000 - val_mape: 100.0000\n",
      "4/4 [==============================] - 0s 8ms/step - loss: 200.0000 - mape: 100.0000\n",
      "WARNING: AutoGraph could not transform <function Model.make_predict_function.<locals>.predict_function at 0x000002B615037798> and will run it as-is.\n",
      "Please report this to the TensorFlow team. When filing the bug, set the verbosity to 10 (on Linux, `export AUTOGRAPH_VERBOSITY=10`) and attach the full output.\n",
      "Cause: 'arguments' object has no attribute 'posonlyargs'\n",
      "To silence this warning, decorate the function with @tf.autograph.experimental.do_not_convert\n",
      "ACCURACY:  0.4756224066390041 0.4736842105263158\n"
     ]
    }
   ],
   "source": [
    "os.environ['TF_CPP_MIN_LOG_LEVEL'] = '3'\n",
    "\n",
    "FORWARD_, LSTM_ = 1, 2\n",
    "kind = LSTM_ #LSTM_ #FORWARD_ #\n",
    "target = 'target_close'\n",
    "\n",
    "tscv = TimeSeriesSplit(n_splits=2, test_size=df.shape[0]//10)\n",
    "histories = []; evaluates = []\n",
    "\n",
    "for index, (train_index, val_index) in enumerate(tscv.split(df)):\n",
    "  print(\"TRAIN:\", train_index.shape, \"VAL:\", val_index.shape)\n",
    "  X_train, X_val = df.iloc[train_index].copy(), df.iloc[val_index].copy()\n",
    "  train_close = X_train['close'].values\n",
    "  val_close = X_val['close'].values\n",
    "\n",
    "  scalerX = scaler_list[\"Standard\"]\n",
    "  LR     = 1e-3\n",
    "  OPTIMIZER     = tf.keras.optimizers.Adam(learning_rate=LR, beta_1=0.9, beta_2=0.999, epsilon=1e-07, amsgrad=False)\n",
    "  KERNEL_REGULARIZER  = tf.keras.regularizers.l2(l2=0.0001)\n",
    "\n",
    "  if kind == LSTM_:\n",
    "    X_train,  y_train,  scalerX = get_ready_data(X_train, scaler=scalerX, kind=kind, fit=True, past_size=5, pct_change=False)\n",
    "    X_val,    y_val,    scalerX = get_ready_data(X_val, scaler=scalerX, kind=kind, fit=False, past_size=5, pct_change=False)\n",
    "    model = RecurrentLSTM(input_size=X_train.shape[1:], output_size=1, output_activation='relu')\n",
    "  else:\n",
    "    X_train, y_train = X_train.drop(target, axis=1), X_train[target]\n",
    "    X_val, y_val = X_val.drop(target, axis=1), X_val[target]\n",
    "    model = DenseBasic(input_size=X_train.shape[1:], output_size=1, output_activation='relu') # #binary_crossentropy\n",
    "\n",
    "  #======================= MODEL FIT =======================\n",
    "\n",
    "  model.compile(loss=SMAPE, optimizer=OPTIMIZER, metrics=['mape']) #binary_crossentropy\n",
    "  # if index == 0:\n",
    "  #   model.summary()\n",
    "\n",
    "  epochs        = 100\n",
    "  batch_size    = 64\n",
    "  history = model.fit(X_train, y_train.values, batch_size=batch_size, epochs=epochs , validation_data=(X_val, y_val), verbose=1, shuffle=True)# callbacks=[ cp_early_stop ])\n",
    "  histories.append(history)\n",
    "  # plot_learning_curves(histories, \"learning curves\")\n",
    "\n",
    "  #======================= EVALUATE MODEL =======================\n",
    "  results = model.evaluate(X_val, y_val, batch_size=batch_size)\n",
    "  evaluates.append(results)  \n",
    "\n",
    "  pred_train = model.predict(X_train).flatten()\n",
    "  pred_test = model.predict(X_val).flatten()\n",
    "\n",
    "  # Using LSTM we discard some rows\n",
    "  if len(train_close) > len(y_train):\n",
    "    train_close = train_close[-len(y_train):]\n",
    "    val_close = val_close[-len(y_val):]\n",
    "\n",
    "  train_target = (y_train > train_close).astype(int)\n",
    "  train_target_pred = (pred_train > train_close).astype(int)\n",
    "  train_acc = 1 - (abs(train_target_pred - train_target)).sum() / len(train_target)\n",
    "\n",
    "  val_target = (y_val > val_close).astype(int)\n",
    "  val_target_pred = (pred_test > val_close).astype(int)\n",
    "  val_acc = 1 - (abs(val_target_pred - val_target)).sum() / len(val_target)\n",
    "\n",
    "  print(\"ACCURACY: \", train_acc, val_acc)\n",
    "\n",
    "  # break\n"
   ]
  },
  {
   "cell_type": "markdown",
   "metadata": {},
   "source": [
    "### 3.2 Trees"
   ]
  },
  {
   "cell_type": "markdown",
   "metadata": {},
   "source": [
    "As in most of the ML problems, Boost and Bagging algorithms usually works better than NN models. Here I have tried different aproached using also different trees implemented in *sklean* library."
   ]
  },
  {
   "cell_type": "code",
   "execution_count": 59,
   "metadata": {},
   "outputs": [
    {
     "name": "stdout",
     "output_type": "stream",
     "text": [
      "KFOLD: 0 TRAIN: (1077, 12) VAL: (214, 12)\n",
      "F1 (TRAIN | VAL):  0.7696 | 0.3727\n",
      "ACC (TRAIN | VAL):  0.7604 | 0.528\n",
      "KFOLD: 1 TRAIN: (1291, 12) VAL: (214, 12)\n",
      "F1 (TRAIN | VAL):  0.735 | 0.4972\n",
      "ACC (TRAIN | VAL):  0.7397 | 0.5748\n",
      "KFOLD: 2 TRAIN: (1505, 12) VAL: (214, 12)\n",
      "F1 (TRAIN | VAL):  0.7156 | 0.4412\n",
      "ACC (TRAIN | VAL):  0.7196 | 0.4673\n",
      "KFOLD: 3 TRAIN: (1719, 12) VAL: (214, 12)\n",
      "F1 (TRAIN | VAL):  0.7173 | 0.6129\n",
      "ACC (TRAIN | VAL):  0.7144 | 0.5514\n",
      "KFOLD: 4 TRAIN: (1933, 12) VAL: (214, 12)\n",
      "F1 (TRAIN | VAL):  0.7186 | 0.4683\n",
      "ACC (TRAIN | VAL):  0.7175 | 0.4907\n",
      "FINAL ACCURACY. TRAIN: 0.7303, VAL: 0.5224\n"
     ]
    }
   ],
   "source": [
    "from xgboost import XGBClassifier, XGBRegressor\n",
    "from sklearn.ensemble import RandomForestRegressor, VotingRegressor, ExtraTreesRegressor\n",
    "from sklearn.linear_model import LinearRegression\n",
    "from sklearn.tree import DecisionTreeRegressor\n",
    "from sklearn.metrics import f1_score\n",
    "from sklearn.model_selection import StratifiedKFold, KFold, TimeSeriesSplit\n",
    "\n",
    "tscv = TimeSeriesSplit(n_splits=5, test_size=df.shape[0]//10)\n",
    "histories = []; evaluates = []\n",
    "if 'date' in df.columns:\n",
    "  df = df.drop('date', axis=1)\n",
    "\n",
    "results = []\n",
    "for index, (train_index, val_index) in enumerate(tscv.split(df)):\n",
    "  X_train, X_val = df.iloc[train_index].copy(), df.iloc[val_index].copy()\n",
    "\n",
    "  target = 'target_close'\n",
    "  X_train, y_train = X_train.drop(target, axis=1), X_train[target]\n",
    "  X_val, y_val = X_val.drop(target, axis=1), X_val[target]\n",
    "  # save real close price in case we scale the data\n",
    "  train_close = X_train['close'].values\n",
    "  val_close = X_val['close'].values\n",
    "\n",
    "  # PCA finds insignificant every feature and doesnt detect any usefull components.\n",
    "  # from sklearn.decomposition import PCA\n",
    "  # pca = PCA(0.98)\n",
    "  # pca = pca.fit(X_train)\n",
    "  # X_train = pca.transform(X_train)\n",
    "  # X_val = pca.transform(X_val)\n",
    "\n",
    "  print(\"KFOLD:\", index, \"TRAIN:\", X_train.shape, \"VAL:\", X_val.shape)\n",
    "\n",
    "  # xgb = XGBRegressor(verbosity=0, n_estimators=1000, max_depth=4, subsample=0.08, colsample_bylevel=0.2,)\n",
    "  lr = LinearRegression()\n",
    "  rf = RandomForestRegressor(max_depth=10, n_estimators=1000,  random_state=0, verbose=0)\n",
    "  dt = DecisionTreeRegressor(max_depth = 4, random_state=0)\n",
    "  etr = ExtraTreesRegressor(max_depth=4, random_state=0, n_estimators=1000, )\n",
    "\n",
    "  model = VotingRegressor([('lr', lr),('rf', rf), ('dt', dt), ('etr', etr)], verbose=0)\n",
    "  model = model.fit(X_train, y_train)\n",
    "\n",
    "  pred_train = model.predict(X_train).flatten()\n",
    "  pred_val = model.predict(X_val).flatten()\n",
    "\n",
    "  train_target = (y_train > train_close).astype(int)\n",
    "  train_target_pred = (pred_train > train_close).astype(int)\n",
    "  train_acc = 1 - (abs(train_target_pred - train_target)).sum() / len(train_target)\n",
    "  train_f1 = f1_score(train_target, train_target_pred)\n",
    "\n",
    "  val_target = (y_val > val_close).astype(int)\n",
    "  val_target_pred = (pred_val > val_close).astype(int)\n",
    "  val_acc = 1 - (abs(val_target_pred - val_target)).sum() / len(val_target)\n",
    "  val_f1 = f1_score(val_target, val_target_pred)\n",
    "\n",
    "  print(\"F1 (TRAIN | VAL): \", round(train_f1, 4), \"|\", round(val_f1, 4))\n",
    "  print(\"ACC (TRAIN | VAL): \", round(train_acc, 4), \"|\", round(val_acc, 4))\n",
    "  results.append([train_acc, val_acc])\n",
    "\n",
    "results = np.array(results)\n",
    "results_mean = results.mean(axis=0)\n",
    "print(f\"FINAL ACCURACY. TRAIN: {round(results_mean[0],4)}, VAL: {round(results_mean[1], 4)}\")"
   ]
  },
  {
   "cell_type": "markdown",
   "metadata": {},
   "source": [
    "Plot the predictions in order to see if there is some pattern which could be resolved"
   ]
  },
  {
   "cell_type": "code",
   "execution_count": 90,
   "metadata": {},
   "outputs": [
    {
     "data": {
      "image/png": "[encoded data removed]",
      "text/plain": [
       "<Figure size 1440x360 with 1 Axes>"
      ]
     },
     "metadata": {},
     "output_type": "display_data"
    }
   ],
   "source": [
    "s = 0\n",
    "e = -1\n",
    "\n",
    "col = 'close'\n",
    "fig = plt.figure(figsize=(20, 5))\n",
    "plt.plot(pred_val[s:e], '.', color='blue', label='new')\n",
    "plt.plot(y_val.values[s:e], '.', color='red', label='old')\n",
    "plt.legend()\n",
    "plt.show()"
   ]
  },
  {
   "cell_type": "markdown",
   "metadata": {},
   "source": [
    "## 4. Train final model"
   ]
  },
  {
   "cell_type": "code",
   "execution_count": 61,
   "metadata": {},
   "outputs": [
    {
     "name": "stdout",
     "output_type": "stream",
     "text": [
      "F1:  0.7094\n",
      "ACC:  0.7108\n"
     ]
    }
   ],
   "source": [
    "if 'date' in df.columns:\n",
    "  df = df.drop('date', axis=1)\n",
    "\n",
    "X_train, X_val = df.copy(), df.copy()\n",
    "X_train, y_train = X_train.drop(target, axis=1), X_train[target]\n",
    "train_close = X_train['close'].values\n",
    "\n",
    "lr = LinearRegression()\n",
    "rf = RandomForestRegressor(max_depth=10, n_estimators=1000,  random_state=0, verbose=0)\n",
    "dt = DecisionTreeRegressor(max_depth = 4, random_state=0)\n",
    "etr = ExtraTreesRegressor(max_depth=4, random_state=0, n_estimators=1000, )\n",
    "\n",
    "model = VotingRegressor([('lr', lr),('rf', rf), ('dt', dt), ('etr', etr)], verbose=0)\n",
    "model = model.fit(X_train, y_train)\n",
    "\n",
    "pred_train = model.predict(X_train).flatten()\n",
    "\n",
    "train_target = (y_train > train_close).astype(int)\n",
    "train_target_pred = (pred_train > train_close).astype(int)\n",
    "train_acc = 1 - (abs(train_target_pred - train_target)).sum() / len(train_target)\n",
    "train_f1 = f1_score(train_target, train_target_pred)\n",
    "\n",
    "print(\"F1: \", round(train_f1, 4))\n",
    "print(\"ACC: \", round(train_acc, 4))\n"
   ]
  },
  {
   "cell_type": "markdown",
   "metadata": {},
   "source": [
    "## 5. Create submission"
   ]
  },
  {
   "cell_type": "code",
   "execution_count": 70,
   "metadata": {},
   "outputs": [
    {
     "name": "stdout",
     "output_type": "stream",
     "text": [
      "(726, 8) raw shape test\n"
     ]
    },
    {
     "data": {
      "text/html": [
       "<div>\n",
       "<style scoped>\n",
       "    .dataframe tbody tr th:only-of-type {\n",
       "        vertical-align: middle;\n",
       "    }\n",
       "\n",
       "    .dataframe tbody tr th {\n",
       "        vertical-align: top;\n",
       "    }\n",
       "\n",
       "    .dataframe thead th {\n",
       "        text-align: right;\n",
       "    }\n",
       "</style>\n",
       "<table border=\"1\" class=\"dataframe\">\n",
       "  <thead>\n",
       "    <tr style=\"text-align: right;\">\n",
       "      <th></th>\n",
       "      <th>test_index</th>\n",
       "      <th>date</th>\n",
       "      <th>open</th>\n",
       "      <th>high</th>\n",
       "      <th>low</th>\n",
       "      <th>close</th>\n",
       "      <th>adj close</th>\n",
       "      <th>volume</th>\n",
       "    </tr>\n",
       "  </thead>\n",
       "  <tbody>\n",
       "  </tbody>\n",
       "</table>\n",
       "</div>"
      ],
      "text/plain": [
       "Empty DataFrame\n",
       "Columns: [test_index, date, open, high, low, close, adj close, volume]\n",
       "Index: []"
      ]
     },
     "metadata": {},
     "output_type": "display_data"
    },
    {
     "name": "stdout",
     "output_type": "stream",
     "text": [
      "(726, 15) ensure that we have not removed any row\n"
     ]
    },
    {
     "name": "stderr",
     "output_type": "stream",
     "text": [
      "c:\\Users\\anton\\anaconda3\\envs\\ML\\lib\\site-packages\\ipykernel_launcher.py:46: SettingWithCopyWarning: \n",
      "A value is trying to be set on a copy of a slice from a DataFrame\n",
      "\n",
      "See the caveats in the documentation: https://pandas.pydata.org/pandas-docs/stable/user_guide/indexing.html#returning-a-view-versus-a-copy\n",
      "c:\\Users\\anton\\anaconda3\\envs\\ML\\lib\\site-packages\\ipykernel_launcher.py:47: SettingWithCopyWarning: \n",
      "A value is trying to be set on a copy of a slice from a DataFrame\n",
      "\n",
      "See the caveats in the documentation: https://pandas.pydata.org/pandas-docs/stable/user_guide/indexing.html#returning-a-view-versus-a-copy\n"
     ]
    }
   ],
   "source": [
    "df_test = pd.read_csv(TEST_PATH)\n",
    "print(df_test.shape, \"raw shape test\")\n",
    "\n",
    "# Change columns name\n",
    "new_col_names = {x : x.lower() for x in df_test.columns}\n",
    "df_test.rename(columns=new_col_names, inplace=True)\n",
    "\n",
    "# Volume == 0 considered an error\n",
    "condicion = df_test['volume'] == 0\n",
    "df_test.loc[condicion, 'volume'] = np.nan\n",
    "\n",
    "display(df_test[df_test.isna().any(axis=1)])\n",
    "# No need to interpolate, thanks god\n",
    "\n",
    "df_test = add_tech_indicators(df_test)\n",
    "df_test['target_close'] = df_test['close'].shift(-3) # in case we want to calculate MAE\n",
    "print(df_test.shape, \"ensure that we have not removed any row\")"
   ]
  },
  {
   "cell_type": "code",
   "execution_count": 82,
   "metadata": {},
   "outputs": [
    {
     "name": "stdout",
     "output_type": "stream",
     "text": [
      "F1:  0.4861\n",
      "ACC:  0.4882\n",
      "SMAPE:  1.8036\n"
     ]
    }
   ],
   "source": [
    "X_test, y_test = df_test.drop([target, 'date', 'test_index'], axis=1), df_test[target]\n",
    "test_close = df_test['close'].values\n",
    "\n",
    "pred_test = model.predict(X_test).flatten()\n",
    "\n",
    "test_target = (y_test[:-3] > test_close[:-3]).astype(int)\n",
    "test_target_pred = (pred_test[:-3] > test_close[:-3]).astype(int)\n",
    "test_acc = 1 - (abs(test_target_pred - test_target)).sum() / len(test_target)\n",
    "test_f1 = f1_score(test_target, test_target_pred)\n",
    "\n",
    "print(\"F1: \", round(test_f1, 4))\n",
    "print(\"ACC: \", round(test_acc, 4))\n",
    "print(\"SMAPE: \", round(SMAPE(y_test[:-3], pred_test[:-3]).numpy(), 4))"
   ]
  },
  {
   "cell_type": "code",
   "execution_count": 89,
   "metadata": {},
   "outputs": [
    {
     "data": {
      "image/png": "[encoded data removed]",
      "text/plain": [
       "<Figure size 1440x360 with 1 Axes>"
      ]
     },
     "metadata": {},
     "output_type": "display_data"
    }
   ],
   "source": [
    "s = 0\n",
    "e = -1\n",
    "\n",
    "col = 'close'\n",
    "fig = plt.figure(figsize=(20, 5))\n",
    "plt.plot(pred_test[s:e], '.', color='blue', label='new')\n",
    "plt.plot(y_test.values[s:e], '.', color='red', label='old')\n",
    "plt.legend()\n",
    "plt.show()"
   ]
  },
  {
   "cell_type": "code",
   "execution_count": 98,
   "metadata": {},
   "outputs": [
    {
     "data": {
      "text/html": [
       "<div>\n",
       "<style scoped>\n",
       "    .dataframe tbody tr th:only-of-type {\n",
       "        vertical-align: middle;\n",
       "    }\n",
       "\n",
       "    .dataframe tbody tr th {\n",
       "        vertical-align: top;\n",
       "    }\n",
       "\n",
       "    .dataframe thead th {\n",
       "        text-align: right;\n",
       "    }\n",
       "</style>\n",
       "<table border=\"1\" class=\"dataframe\">\n",
       "  <thead>\n",
       "    <tr style=\"text-align: right;\">\n",
       "      <th></th>\n",
       "      <th>test_index</th>\n",
       "      <th>date</th>\n",
       "      <th>open</th>\n",
       "      <th>high</th>\n",
       "      <th>low</th>\n",
       "      <th>close</th>\n",
       "      <th>adj close</th>\n",
       "      <th>volume</th>\n",
       "      <th>PPO</th>\n",
       "      <th>StRSI</th>\n",
       "      <th>MFI</th>\n",
       "      <th>CCI</th>\n",
       "      <th>EMA</th>\n",
       "      <th>typical</th>\n",
       "      <th>target_close</th>\n",
       "      <th>Target</th>\n",
       "    </tr>\n",
       "  </thead>\n",
       "  <tbody>\n",
       "    <tr>\n",
       "      <th>0</th>\n",
       "      <td>6557</td>\n",
       "      <td>2019-06-05</td>\n",
       "      <td>9136.799805</td>\n",
       "      <td>9173.400391</td>\n",
       "      <td>9095.000000</td>\n",
       "      <td>9150.500000</td>\n",
       "      <td>9150.500000</td>\n",
       "      <td>158753000.0</td>\n",
       "      <td>0.000000</td>\n",
       "      <td>0.000000</td>\n",
       "      <td>50.000000</td>\n",
       "      <td>0.000000</td>\n",
       "      <td>9150.500000</td>\n",
       "      <td>9139.633464</td>\n",
       "      <td>9294.099609</td>\n",
       "      <td>0</td>\n",
       "    </tr>\n",
       "    <tr>\n",
       "      <th>1</th>\n",
       "      <td>6558</td>\n",
       "      <td>2019-06-06</td>\n",
       "      <td>9169.200195</td>\n",
       "      <td>9246.200195</td>\n",
       "      <td>9136.700195</td>\n",
       "      <td>9169.200195</td>\n",
       "      <td>9169.200195</td>\n",
       "      <td>212720900.0</td>\n",
       "      <td>0.016300</td>\n",
       "      <td>0.000000</td>\n",
       "      <td>100.000000</td>\n",
       "      <td>66.666667</td>\n",
       "      <td>9155.175049</td>\n",
       "      <td>9184.033528</td>\n",
       "      <td>9282.099609</td>\n",
       "      <td>0</td>\n",
       "    </tr>\n",
       "    <tr>\n",
       "      <th>2</th>\n",
       "      <td>6559</td>\n",
       "      <td>2019-06-07</td>\n",
       "      <td>9186.700195</td>\n",
       "      <td>9261.400391</td>\n",
       "      <td>9185.700195</td>\n",
       "      <td>9236.099609</td>\n",
       "      <td>9236.099609</td>\n",
       "      <td>150664700.0</td>\n",
       "      <td>0.087138</td>\n",
       "      <td>0.000000</td>\n",
       "      <td>100.000000</td>\n",
       "      <td>99.471551</td>\n",
       "      <td>9175.406189</td>\n",
       "      <td>9227.733398</td>\n",
       "      <td>9238.500000</td>\n",
       "      <td>0</td>\n",
       "    </tr>\n",
       "    <tr>\n",
       "      <th>3</th>\n",
       "      <td>6560</td>\n",
       "      <td>2019-06-10</td>\n",
       "      <td>9284.200195</td>\n",
       "      <td>9302.200195</td>\n",
       "      <td>9248.099609</td>\n",
       "      <td>9294.099609</td>\n",
       "      <td>9294.099609</td>\n",
       "      <td>102323700.0</td>\n",
       "      <td>0.191964</td>\n",
       "      <td>0.000000</td>\n",
       "      <td>100.000000</td>\n",
       "      <td>105.281977</td>\n",
       "      <td>9205.079544</td>\n",
       "      <td>9281.466471</td>\n",
       "      <td>9247.099609</td>\n",
       "      <td>0</td>\n",
       "    </tr>\n",
       "    <tr>\n",
       "      <th>4</th>\n",
       "      <td>6561</td>\n",
       "      <td>2019-06-11</td>\n",
       "      <td>9288.599609</td>\n",
       "      <td>9332.500000</td>\n",
       "      <td>9273.400391</td>\n",
       "      <td>9282.099609</td>\n",
       "      <td>9282.099609</td>\n",
       "      <td>144701200.0</td>\n",
       "      <td>0.261298</td>\n",
       "      <td>0.000000</td>\n",
       "      <td>100.000000</td>\n",
       "      <td>91.526905</td>\n",
       "      <td>9224.334560</td>\n",
       "      <td>9296.000000</td>\n",
       "      <td>9194.200195</td>\n",
       "      <td>0</td>\n",
       "    </tr>\n",
       "    <tr>\n",
       "      <th>...</th>\n",
       "      <td>...</td>\n",
       "      <td>...</td>\n",
       "      <td>...</td>\n",
       "      <td>...</td>\n",
       "      <td>...</td>\n",
       "      <td>...</td>\n",
       "      <td>...</td>\n",
       "      <td>...</td>\n",
       "      <td>...</td>\n",
       "      <td>...</td>\n",
       "      <td>...</td>\n",
       "      <td>...</td>\n",
       "      <td>...</td>\n",
       "      <td>...</td>\n",
       "      <td>...</td>\n",
       "      <td>...</td>\n",
       "    </tr>\n",
       "    <tr>\n",
       "      <th>721</th>\n",
       "      <td>7278</td>\n",
       "      <td>2022-03-25</td>\n",
       "      <td>8314.099609</td>\n",
       "      <td>8363.200195</td>\n",
       "      <td>8286.500000</td>\n",
       "      <td>8330.599609</td>\n",
       "      <td>8330.599609</td>\n",
       "      <td>156189000.0</td>\n",
       "      <td>-0.187358</td>\n",
       "      <td>0.134238</td>\n",
       "      <td>33.983815</td>\n",
       "      <td>30.408703</td>\n",
       "      <td>8337.440765</td>\n",
       "      <td>8326.766601</td>\n",
       "      <td>8550.599609</td>\n",
       "      <td>1</td>\n",
       "    </tr>\n",
       "    <tr>\n",
       "      <th>722</th>\n",
       "      <td>7279</td>\n",
       "      <td>2022-03-28</td>\n",
       "      <td>8354.400391</td>\n",
       "      <td>8485.700195</td>\n",
       "      <td>8354.400391</td>\n",
       "      <td>8365.599609</td>\n",
       "      <td>8365.599609</td>\n",
       "      <td>167961800.0</td>\n",
       "      <td>-0.122738</td>\n",
       "      <td>0.325872</td>\n",
       "      <td>48.384227</td>\n",
       "      <td>61.391109</td>\n",
       "      <td>8344.480476</td>\n",
       "      <td>8401.900065</td>\n",
       "      <td>8445.099609</td>\n",
       "      <td>1</td>\n",
       "    </tr>\n",
       "    <tr>\n",
       "      <th>723</th>\n",
       "      <td>7280</td>\n",
       "      <td>2022-03-29</td>\n",
       "      <td>8451.000000</td>\n",
       "      <td>8621.000000</td>\n",
       "      <td>8419.700195</td>\n",
       "      <td>8614.599609</td>\n",
       "      <td>8614.599609</td>\n",
       "      <td>257812200.0</td>\n",
       "      <td>0.167243</td>\n",
       "      <td>1.000000</td>\n",
       "      <td>71.844834</td>\n",
       "      <td>148.056137</td>\n",
       "      <td>8412.010259</td>\n",
       "      <td>8551.766601</td>\n",
       "      <td>NaN</td>\n",
       "      <td>0</td>\n",
       "    </tr>\n",
       "    <tr>\n",
       "      <th>724</th>\n",
       "      <td>7281</td>\n",
       "      <td>2022-03-30</td>\n",
       "      <td>8583.299805</td>\n",
       "      <td>8597.400391</td>\n",
       "      <td>8508.900391</td>\n",
       "      <td>8550.599609</td>\n",
       "      <td>8550.599609</td>\n",
       "      <td>185389000.0</td>\n",
       "      <td>0.330579</td>\n",
       "      <td>0.677935</td>\n",
       "      <td>72.677252</td>\n",
       "      <td>144.029387</td>\n",
       "      <td>8446.657597</td>\n",
       "      <td>8552.300130</td>\n",
       "      <td>NaN</td>\n",
       "      <td>1</td>\n",
       "    </tr>\n",
       "    <tr>\n",
       "      <th>725</th>\n",
       "      <td>7282</td>\n",
       "      <td>2022-03-31</td>\n",
       "      <td>8562.599609</td>\n",
       "      <td>8588.299805</td>\n",
       "      <td>8445.099609</td>\n",
       "      <td>8445.099609</td>\n",
       "      <td>8445.099609</td>\n",
       "      <td>220117500.0</td>\n",
       "      <td>0.354177</td>\n",
       "      <td>0.206064</td>\n",
       "      <td>57.152411</td>\n",
       "      <td>91.032315</td>\n",
       "      <td>8446.268100</td>\n",
       "      <td>8492.833008</td>\n",
       "      <td>NaN</td>\n",
       "      <td>1</td>\n",
       "    </tr>\n",
       "  </tbody>\n",
       "</table>\n",
       "<p>726 rows × 16 columns</p>\n",
       "</div>"
      ],
      "text/plain": [
       "     test_index        date         open         high          low  \\\n",
       "0          6557  2019-06-05  9136.799805  9173.400391  9095.000000   \n",
       "1          6558  2019-06-06  9169.200195  9246.200195  9136.700195   \n",
       "2          6559  2019-06-07  9186.700195  9261.400391  9185.700195   \n",
       "3          6560  2019-06-10  9284.200195  9302.200195  9248.099609   \n",
       "4          6561  2019-06-11  9288.599609  9332.500000  9273.400391   \n",
       "..          ...         ...          ...          ...          ...   \n",
       "721        7278  2022-03-25  8314.099609  8363.200195  8286.500000   \n",
       "722        7279  2022-03-28  8354.400391  8485.700195  8354.400391   \n",
       "723        7280  2022-03-29  8451.000000  8621.000000  8419.700195   \n",
       "724        7281  2022-03-30  8583.299805  8597.400391  8508.900391   \n",
       "725        7282  2022-03-31  8562.599609  8588.299805  8445.099609   \n",
       "\n",
       "           close    adj close       volume       PPO     StRSI         MFI  \\\n",
       "0    9150.500000  9150.500000  158753000.0  0.000000  0.000000   50.000000   \n",
       "1    9169.200195  9169.200195  212720900.0  0.016300  0.000000  100.000000   \n",
       "2    9236.099609  9236.099609  150664700.0  0.087138  0.000000  100.000000   \n",
       "3    9294.099609  9294.099609  102323700.0  0.191964  0.000000  100.000000   \n",
       "4    9282.099609  9282.099609  144701200.0  0.261298  0.000000  100.000000   \n",
       "..           ...          ...          ...       ...       ...         ...   \n",
       "721  8330.599609  8330.599609  156189000.0 -0.187358  0.134238   33.983815   \n",
       "722  8365.599609  8365.599609  167961800.0 -0.122738  0.325872   48.384227   \n",
       "723  8614.599609  8614.599609  257812200.0  0.167243  1.000000   71.844834   \n",
       "724  8550.599609  8550.599609  185389000.0  0.330579  0.677935   72.677252   \n",
       "725  8445.099609  8445.099609  220117500.0  0.354177  0.206064   57.152411   \n",
       "\n",
       "            CCI          EMA      typical  target_close  Target  \n",
       "0      0.000000  9150.500000  9139.633464   9294.099609       0  \n",
       "1     66.666667  9155.175049  9184.033528   9282.099609       0  \n",
       "2     99.471551  9175.406189  9227.733398   9238.500000       0  \n",
       "3    105.281977  9205.079544  9281.466471   9247.099609       0  \n",
       "4     91.526905  9224.334560  9296.000000   9194.200195       0  \n",
       "..          ...          ...          ...           ...     ...  \n",
       "721   30.408703  8337.440765  8326.766601   8550.599609       1  \n",
       "722   61.391109  8344.480476  8401.900065   8445.099609       1  \n",
       "723  148.056137  8412.010259  8551.766601           NaN       0  \n",
       "724  144.029387  8446.657597  8552.300130           NaN       1  \n",
       "725   91.032315  8446.268100  8492.833008           NaN       1  \n",
       "\n",
       "[726 rows x 16 columns]"
      ]
     },
     "execution_count": 98,
     "metadata": {},
     "output_type": "execute_result"
    }
   ],
   "source": [
    "df_submit = df_test.copy()\n",
    "pred_test = model.predict(X_test).flatten()\n",
    "test_target_pred = (pred_test > test_close).astype(int)\n",
    "df_submit['Target'] = test_target_pred.astype(int)\n",
    "\n",
    "df_submit"
   ]
  },
  {
   "cell_type": "code",
   "execution_count": 102,
   "metadata": {},
   "outputs": [],
   "source": [
    "df_submit[['test_index', 'Target']].to_csv(\"predictions.csv\", header=True, index=False)"
   ]
  },
  {
   "cell_type": "code",
   "execution_count": 106,
   "metadata": {},
   "outputs": [],
   "source": [
    "df_submit[['test_index', 'Target']].to_json('predictions.json', orient=\"table\", index=False, indent=2)"
   ]
  }
 ],
 "metadata": {
  "interpreter": {
   "hash": "24f22827017deb0d5ae7edb126d9d9354dd3680e9087b0577c6974515005db17"
  },
  "kernelspec": {
   "display_name": "Python 3.7.11 ('ML')",
   "language": "python",
   "name": "python3"
  },
  "language_info": {
   "codemirror_mode": {
    "name": "ipython",
    "version": 3
   },
   "file_extension": ".py",
   "mimetype": "text/x-python",
   "name": "python",
   "nbconvert_exporter": "python",
   "pygments_lexer": "ipython3",
   "version": "3.7.11"
  },
  "orig_nbformat": 4
 },
 "nbformat": 4,
 "nbformat_minor": 2
}
